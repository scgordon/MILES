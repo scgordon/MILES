{
 "cells": [
  {
   "cell_type": "markdown",
   "metadata": {},
   "source": [
    "### Notebook Goals\n",
    "* Create csv with recommendation concept content for the collection \n",
    "* translate concept names into the schema.org vocabulary\n",
    "* create valid JSON-LD for a record\n",
    "* Use Google's Structured Data Testing Tool to test results"
   ]
  },
  {
   "cell_type": "code",
   "execution_count": 1,
   "metadata": {},
   "outputs": [],
   "source": [
    "import pandas as pd\n",
    "\n",
    "import MDeval as md\n",
    "\n",
    "Organization = 'BCO-DMO'\n",
    "Collection = 'GeoTraces'\n",
    "Dialect = 'ISO'\n",
    "RecommendationEvaluatedDF = pd.read_csv(\n",
    "    './data/'+Organization+'/'+Collection+'_'+Dialect+'_RecommendationEvaluated.csv'\n",
    ")\n",
    "Output = './data/'+Organization+'/recordConceptContent.csv'"
   ]
  },
  {
   "cell_type": "code",
   "execution_count": 2,
   "metadata": {
    "scrolled": true
   },
   "outputs": [
    {
     "data": {
      "text/html": [
       "<div>\n",
       "<style scoped>\n",
       "    .dataframe tbody tr th:only-of-type {\n",
       "        vertical-align: middle;\n",
       "    }\n",
       "\n",
       "    .dataframe tbody tr th {\n",
       "        vertical-align: top;\n",
       "    }\n",
       "\n",
       "    .dataframe thead th {\n",
       "        text-align: right;\n",
       "    }\n",
       "</style>\n",
       "<table border=\"1\" class=\"dataframe\">\n",
       "  <thead>\n",
       "    <tr style=\"text-align: right;\">\n",
       "      <th></th>\n",
       "      <th>Collection</th>\n",
       "      <th>Record</th>\n",
       "      <th>Resource Title</th>\n",
       "      <th>Abstract</th>\n",
       "      <th>Online Resource</th>\n",
       "      <th>Keyword</th>\n",
       "      <th>Author / Originator</th>\n",
       "      <th>Distribution Format</th>\n",
       "      <th>Resource Type</th>\n",
       "      <th>Resource Version</th>\n",
       "      <th>Temporal Extent</th>\n",
       "      <th>Spatial Extent</th>\n",
       "      <th>Resource Citation</th>\n",
       "    </tr>\n",
       "  </thead>\n",
       "  <tbody>\n",
       "    <tr>\n",
       "      <th>1</th>\n",
       "      <td>GeoTraces</td>\n",
       "      <td>dataset_3470.xml</td>\n",
       "      <td>GT10 - Nanomolar Nutrients - Surface from the ...</td>\n",
       "      <td>Nanomolar concentrations of PO4, NO3, NO2 (sur...</td>\n",
       "      <td>0.0</td>\n",
       "      <td>cruise_id, date, time, latitude, longitude, sa...</td>\n",
       "      <td>Dr Gregory Cutter Old Dominion University prin...</td>\n",
       "      <td>0.0</td>\n",
       "      <td>dataset</td>\n",
       "      <td>0.0</td>\n",
       "      <td>0.0</td>\n",
       "      <td>0.0</td>\n",
       "      <td>0.0</td>\n",
       "    </tr>\n",
       "    <tr>\n",
       "      <th>2</th>\n",
       "      <td>GeoTraces</td>\n",
       "      <td>dataset_3484.xml</td>\n",
       "      <td>GT10 - Cruise Tracks from the U.S. GEOTRACES N...</td>\n",
       "      <td>GT10 - Cruise tracks from Athena data - 1 minu...</td>\n",
       "      <td>0.0</td>\n",
       "      <td>date_gmt, time_gmt, longitude, latitude, cruis...</td>\n",
       "      <td>Dr William J. Jenkins Woods Hole Oceanographic...</td>\n",
       "      <td>0.0</td>\n",
       "      <td>dataset</td>\n",
       "      <td>0.0</td>\n",
       "      <td>0.0</td>\n",
       "      <td>0.0</td>\n",
       "      <td>0.0</td>\n",
       "    </tr>\n",
       "  </tbody>\n",
       "</table>\n",
       "</div>"
      ],
      "text/plain": [
       "  Collection            Record  \\\n",
       "1  GeoTraces  dataset_3470.xml   \n",
       "2  GeoTraces  dataset_3484.xml   \n",
       "\n",
       "                                      Resource Title  \\\n",
       "1  GT10 - Nanomolar Nutrients - Surface from the ...   \n",
       "2  GT10 - Cruise Tracks from the U.S. GEOTRACES N...   \n",
       "\n",
       "                                            Abstract  Online Resource  \\\n",
       "1  Nanomolar concentrations of PO4, NO3, NO2 (sur...              0.0   \n",
       "2  GT10 - Cruise tracks from Athena data - 1 minu...              0.0   \n",
       "\n",
       "                                             Keyword  \\\n",
       "1  cruise_id, date, time, latitude, longitude, sa...   \n",
       "2  date_gmt, time_gmt, longitude, latitude, cruis...   \n",
       "\n",
       "                                 Author / Originator  Distribution Format  \\\n",
       "1  Dr Gregory Cutter Old Dominion University prin...                  0.0   \n",
       "2  Dr William J. Jenkins Woods Hole Oceanographic...                  0.0   \n",
       "\n",
       "  Resource Type  Resource Version  Temporal Extent  Spatial Extent  \\\n",
       "1       dataset               0.0              0.0             0.0   \n",
       "2       dataset               0.0              0.0             0.0   \n",
       "\n",
       "   Resource Citation  \n",
       "1                0.0  \n",
       "2                0.0  "
      ]
     },
     "execution_count": 2,
     "metadata": {},
     "output_type": "execute_result"
    }
   ],
   "source": [
    "recordDF = md.recordConceptContent(\n",
    "    RecommendationEvaluatedDF, Organization, Collection, Dialect,\n",
    "    Output)\n",
    "RecRecordDF = recordDF[['Collection', 'Record', 'Resource Title', 'Abstract', 'Online Resource', 'Keyword',\n",
    "                        'Author / Originator', 'Distribution Format',\n",
    "                        'Resource Type', 'Resource Version', 'Temporal Extent',\n",
    "                        'Spatial Extent', 'Resource Citation']]\n",
    "RecRecordDF"
   ]
  },
  {
   "cell_type": "code",
   "execution_count": 3,
   "metadata": {},
   "outputs": [],
   "source": [
    "RecordChoice = 'dataset_3484.xml'"
   ]
  },
  {
   "cell_type": "code",
   "execution_count": 4,
   "metadata": {},
   "outputs": [
    {
     "data": {
      "text/html": [
       "<div>\n",
       "<style scoped>\n",
       "    .dataframe tbody tr th:only-of-type {\n",
       "        vertical-align: middle;\n",
       "    }\n",
       "\n",
       "    .dataframe tbody tr th {\n",
       "        vertical-align: top;\n",
       "    }\n",
       "\n",
       "    .dataframe thead th {\n",
       "        text-align: right;\n",
       "    }\n",
       "</style>\n",
       "<table border=\"1\" class=\"dataframe\">\n",
       "  <thead>\n",
       "    <tr style=\"text-align: right;\">\n",
       "      <th></th>\n",
       "      <th>Collection</th>\n",
       "      <th>Record</th>\n",
       "      <th>Resource Title</th>\n",
       "      <th>Abstract</th>\n",
       "      <th>Online Resource</th>\n",
       "      <th>Keyword</th>\n",
       "      <th>Author / Originator</th>\n",
       "      <th>Distribution Format</th>\n",
       "      <th>Resource Type</th>\n",
       "      <th>Resource Version</th>\n",
       "      <th>Temporal Extent</th>\n",
       "      <th>Spatial Extent</th>\n",
       "      <th>Resource Citation</th>\n",
       "    </tr>\n",
       "  </thead>\n",
       "  <tbody>\n",
       "    <tr>\n",
       "      <th>2</th>\n",
       "      <td>GeoTraces</td>\n",
       "      <td>dataset_3484.xml</td>\n",
       "      <td>GT10 - Cruise Tracks from the U.S. GEOTRACES N...</td>\n",
       "      <td>GT10 - Cruise tracks from Athena data - 1 minu...</td>\n",
       "      <td>0.0</td>\n",
       "      <td>date_gmt, time_gmt, longitude, latitude, cruis...</td>\n",
       "      <td>Dr William J. Jenkins Woods Hole Oceanographic...</td>\n",
       "      <td>0.0</td>\n",
       "      <td>dataset</td>\n",
       "      <td>0.0</td>\n",
       "      <td>0.0</td>\n",
       "      <td>0.0</td>\n",
       "      <td>0.0</td>\n",
       "    </tr>\n",
       "  </tbody>\n",
       "</table>\n",
       "</div>"
      ],
      "text/plain": [
       "  Collection            Record  \\\n",
       "2  GeoTraces  dataset_3484.xml   \n",
       "\n",
       "                                      Resource Title  \\\n",
       "2  GT10 - Cruise Tracks from the U.S. GEOTRACES N...   \n",
       "\n",
       "                                            Abstract  Online Resource  \\\n",
       "2  GT10 - Cruise tracks from Athena data - 1 minu...              0.0   \n",
       "\n",
       "                                             Keyword  \\\n",
       "2  date_gmt, time_gmt, longitude, latitude, cruis...   \n",
       "\n",
       "                                 Author / Originator  Distribution Format  \\\n",
       "2  Dr William J. Jenkins Woods Hole Oceanographic...                  0.0   \n",
       "\n",
       "  Resource Type  Resource Version  Temporal Extent  Spatial Extent  \\\n",
       "2       dataset               0.0              0.0             0.0   \n",
       "\n",
       "   Resource Citation  \n",
       "2                0.0  "
      ]
     },
     "execution_count": 4,
     "metadata": {},
     "output_type": "execute_result"
    }
   ],
   "source": [
    "RecRecordDF = RecRecordDF[RecRecordDF['Record'] == RecordChoice]\n",
    "RecRecordDF"
   ]
  },
  {
   "cell_type": "code",
   "execution_count": 5,
   "metadata": {
    "scrolled": true
   },
   "outputs": [
    {
     "data": {
      "text/html": [
       "<div>\n",
       "<style scoped>\n",
       "    .dataframe tbody tr th:only-of-type {\n",
       "        vertical-align: middle;\n",
       "    }\n",
       "\n",
       "    .dataframe tbody tr th {\n",
       "        vertical-align: top;\n",
       "    }\n",
       "\n",
       "    .dataframe thead th {\n",
       "        text-align: right;\n",
       "    }\n",
       "</style>\n",
       "<table border=\"1\" class=\"dataframe\">\n",
       "  <thead>\n",
       "    <tr style=\"text-align: right;\">\n",
       "      <th></th>\n",
       "      <th>Collection</th>\n",
       "      <th>Record</th>\n",
       "      <th>name</th>\n",
       "      <th>description</th>\n",
       "      <th>url</th>\n",
       "      <th>keywords</th>\n",
       "      <th>creator</th>\n",
       "      <th>distribution</th>\n",
       "      <th>@type</th>\n",
       "      <th>version</th>\n",
       "      <th>temporalCoverage</th>\n",
       "      <th>spatialCoverage</th>\n",
       "      <th>citation</th>\n",
       "    </tr>\n",
       "  </thead>\n",
       "  <tbody>\n",
       "    <tr>\n",
       "      <th>2</th>\n",
       "      <td>GeoTraces</td>\n",
       "      <td>dataset_3484.xml</td>\n",
       "      <td>GT10 - Cruise Tracks from the U.S. GEOTRACES N...</td>\n",
       "      <td>GT10 - Cruise tracks from Athena data - 1 minu...</td>\n",
       "      <td>0.0</td>\n",
       "      <td>date_gmt, time_gmt, longitude, latitude, cruis...</td>\n",
       "      <td>Dr William J. Jenkins Woods Hole Oceanographic...</td>\n",
       "      <td>0.0</td>\n",
       "      <td>dataset</td>\n",
       "      <td>0.0</td>\n",
       "      <td>0.0</td>\n",
       "      <td>0.0</td>\n",
       "      <td>0.0</td>\n",
       "    </tr>\n",
       "  </tbody>\n",
       "</table>\n",
       "</div>"
      ],
      "text/plain": [
       "  Collection            Record  \\\n",
       "2  GeoTraces  dataset_3484.xml   \n",
       "\n",
       "                                                name  \\\n",
       "2  GT10 - Cruise Tracks from the U.S. GEOTRACES N...   \n",
       "\n",
       "                                         description  url  \\\n",
       "2  GT10 - Cruise tracks from Athena data - 1 minu...  0.0   \n",
       "\n",
       "                                            keywords  \\\n",
       "2  date_gmt, time_gmt, longitude, latitude, cruis...   \n",
       "\n",
       "                                             creator  distribution    @type  \\\n",
       "2  Dr William J. Jenkins Woods Hole Oceanographic...           0.0  dataset   \n",
       "\n",
       "   version  temporalCoverage  spatialCoverage  citation  \n",
       "2      0.0               0.0              0.0       0.0  "
      ]
     },
     "execution_count": 5,
     "metadata": {},
     "output_type": "execute_result"
    }
   ],
   "source": [
    "RecRecordDF = RecRecordDF.rename({'Resource Title':'name', 'Abstract':'description', 'Online Resource':'url', 'Keyword':'keywords', 'Author / Originator':'creator', 'Distribution Format': 'distribution', 'Resource Type':'@type', 'Resource Version': 'version', 'Temporal Extent': 'temporalCoverage', 'Spatial Extent': 'spatialCoverage', 'Resource Citation':'citation'}, axis='columns')\n",
    "RecRecordDF"
   ]
  },
  {
   "cell_type": "code",
   "execution_count": 6,
   "metadata": {},
   "outputs": [
    {
     "data": {
      "text/html": [
       "<div>\n",
       "<style scoped>\n",
       "    .dataframe tbody tr th:only-of-type {\n",
       "        vertical-align: middle;\n",
       "    }\n",
       "\n",
       "    .dataframe tbody tr th {\n",
       "        vertical-align: top;\n",
       "    }\n",
       "\n",
       "    .dataframe thead th {\n",
       "        text-align: right;\n",
       "    }\n",
       "</style>\n",
       "<table border=\"1\" class=\"dataframe\">\n",
       "  <thead>\n",
       "    <tr style=\"text-align: right;\">\n",
       "      <th></th>\n",
       "      <th>Collection</th>\n",
       "      <th>Record</th>\n",
       "      <th>@context</th>\n",
       "      <th>name</th>\n",
       "      <th>description</th>\n",
       "      <th>url</th>\n",
       "      <th>keywords</th>\n",
       "      <th>creator</th>\n",
       "      <th>distribution</th>\n",
       "      <th>@type</th>\n",
       "      <th>version</th>\n",
       "      <th>temporalCoverage</th>\n",
       "      <th>spatialCoverage</th>\n",
       "      <th>citation</th>\n",
       "    </tr>\n",
       "  </thead>\n",
       "  <tbody>\n",
       "    <tr>\n",
       "      <th>2</th>\n",
       "      <td>GeoTraces</td>\n",
       "      <td>dataset_3484.xml</td>\n",
       "      <td>http://schema.org/</td>\n",
       "      <td>GT10 - Cruise Tracks from the U.S. GEOTRACES N...</td>\n",
       "      <td>GT10 - Cruise tracks from Athena data - 1 minu...</td>\n",
       "      <td>0.0</td>\n",
       "      <td>date_gmt, time_gmt, longitude, latitude, cruis...</td>\n",
       "      <td>Dr William J. Jenkins Woods Hole Oceanographic...</td>\n",
       "      <td>0.0</td>\n",
       "      <td>dataset</td>\n",
       "      <td>0.0</td>\n",
       "      <td>0.0</td>\n",
       "      <td>0.0</td>\n",
       "      <td>0.0</td>\n",
       "    </tr>\n",
       "  </tbody>\n",
       "</table>\n",
       "</div>"
      ],
      "text/plain": [
       "  Collection            Record            @context  \\\n",
       "2  GeoTraces  dataset_3484.xml  http://schema.org/   \n",
       "\n",
       "                                                name  \\\n",
       "2  GT10 - Cruise Tracks from the U.S. GEOTRACES N...   \n",
       "\n",
       "                                         description  url  \\\n",
       "2  GT10 - Cruise tracks from Athena data - 1 minu...  0.0   \n",
       "\n",
       "                                            keywords  \\\n",
       "2  date_gmt, time_gmt, longitude, latitude, cruis...   \n",
       "\n",
       "                                             creator  distribution    @type  \\\n",
       "2  Dr William J. Jenkins Woods Hole Oceanographic...           0.0  dataset   \n",
       "\n",
       "   version  temporalCoverage  spatialCoverage  citation  \n",
       "2      0.0               0.0              0.0       0.0  "
      ]
     },
     "execution_count": 6,
     "metadata": {},
     "output_type": "execute_result"
    }
   ],
   "source": [
    "RecRecordDF.insert(2, '@context', 'http://schema.org/')\n",
    "RecRecordDF"
   ]
  },
  {
   "cell_type": "code",
   "execution_count": 7,
   "metadata": {},
   "outputs": [
    {
     "data": {
      "text/html": [
       "<div>\n",
       "<style scoped>\n",
       "    .dataframe tbody tr th:only-of-type {\n",
       "        vertical-align: middle;\n",
       "    }\n",
       "\n",
       "    .dataframe tbody tr th {\n",
       "        vertical-align: top;\n",
       "    }\n",
       "\n",
       "    .dataframe thead th {\n",
       "        text-align: right;\n",
       "    }\n",
       "</style>\n",
       "<table border=\"1\" class=\"dataframe\">\n",
       "  <thead>\n",
       "    <tr style=\"text-align: right;\">\n",
       "      <th></th>\n",
       "      <th>@context</th>\n",
       "      <th>name</th>\n",
       "      <th>description</th>\n",
       "      <th>url</th>\n",
       "      <th>keywords</th>\n",
       "      <th>creator</th>\n",
       "      <th>distribution</th>\n",
       "      <th>@type</th>\n",
       "      <th>version</th>\n",
       "      <th>temporalCoverage</th>\n",
       "      <th>spatialCoverage</th>\n",
       "      <th>citation</th>\n",
       "    </tr>\n",
       "  </thead>\n",
       "  <tbody>\n",
       "    <tr>\n",
       "      <th>2</th>\n",
       "      <td>http://schema.org/</td>\n",
       "      <td>GT10 - Cruise Tracks from the U.S. GEOTRACES N...</td>\n",
       "      <td>GT10 - Cruise tracks from Athena data - 1 minu...</td>\n",
       "      <td>0.0</td>\n",
       "      <td>date_gmt, time_gmt, longitude, latitude, cruis...</td>\n",
       "      <td>Dr William J. Jenkins Woods Hole Oceanographic...</td>\n",
       "      <td>0.0</td>\n",
       "      <td>dataset</td>\n",
       "      <td>0.0</td>\n",
       "      <td>0.0</td>\n",
       "      <td>0.0</td>\n",
       "      <td>0.0</td>\n",
       "    </tr>\n",
       "  </tbody>\n",
       "</table>\n",
       "</div>"
      ],
      "text/plain": [
       "             @context                                               name  \\\n",
       "2  http://schema.org/  GT10 - Cruise Tracks from the U.S. GEOTRACES N...   \n",
       "\n",
       "                                         description  url  \\\n",
       "2  GT10 - Cruise tracks from Athena data - 1 minu...  0.0   \n",
       "\n",
       "                                            keywords  \\\n",
       "2  date_gmt, time_gmt, longitude, latitude, cruis...   \n",
       "\n",
       "                                             creator  distribution    @type  \\\n",
       "2  Dr William J. Jenkins Woods Hole Oceanographic...           0.0  dataset   \n",
       "\n",
       "   version  temporalCoverage  spatialCoverage  citation  \n",
       "2      0.0               0.0              0.0       0.0  "
      ]
     },
     "execution_count": 7,
     "metadata": {},
     "output_type": "execute_result"
    }
   ],
   "source": [
    "RecRecordDF = RecRecordDF.drop(['Collection', 'Record'], 'columns')\n",
    "RecRecordDF   "
   ]
  },
  {
   "cell_type": "code",
   "execution_count": 8,
   "metadata": {},
   "outputs": [
    {
     "data": {
      "text/plain": [
       "'<script type=\"application/ld+json\">{\"@context\":\"http:\\\\/\\\\/schema.org\\\\/\",\"name\":\"GT10 - Cruise Tracks from the U.S. GEOTRACES NAT project of the U.S. GEOTRACES program\",\"description\":\"GT10 - Cruise tracks from Athena data - 1 minute fixes. Dataset Description: &lt;p&gt;Cruise tracks generated from WHOI Athena daily files (.csv\\'s) for GT10 (KN199-04,05)&lt;br \\\\/&gt;GPS NMEA $GPRMC data sentences obtained from the switched GPS receiver (C-Nav, GP1850, GP-90D)&lt;br \\\\/&gt;CruiseId, Date, Time, Lat, Lon - 1 minute fixes&lt;\\\\/p&gt; Acquisition Description: &lt;p&gt;Logged to WHOI Athena daily files (.csv\\'s)&lt;br \\\\/&gt;GPS NMEA $GPRMC data sentences obtained from the switched GPS receiver (C-Nav, GP1850, GP-90D)&lt;\\\\/p&gt;\",\"url\":0.0,\"keywords\":\"date_gmt, time_gmt, longitude, latitude, cruise_id, Global Positioning System Receiver, Subtropical northern Atlantic Ocean, date_gmt, time_gmt, longitude, latitude, cruise id, KN199-04, KN199-05, Global Positioning System Receiver\",\"creator\":\"Dr William J. Jenkins Woods Hole Oceanographic Institution principalInvestigator\",\"distribution\":0.0,\"@type\":\"dataset\",\"version\":0.0,\"temporalCoverage\":0.0,\"spatialCoverage\":0.0,\"citation\":0.0}</script>'"
      ]
     },
     "execution_count": 8,
     "metadata": {},
     "output_type": "execute_result"
    }
   ],
   "source": [
    "recordDict = RecRecordDF.to_json(orient='records')\n",
    "RecordJSONld = '<script type=\"application/ld+json\">' + recordDict[1:-1] + '</script>'\n",
    "RecordJSONld"
   ]
  },
  {
   "cell_type": "markdown",
   "metadata": {},
   "source": [
    "[Google's Structured Data Testing Tool](https://search.google.com/structured-data/testing-tool#new-test)"
   ]
  },
  {
   "cell_type": "markdown",
   "metadata": {},
   "source": [
    "[Next Notebook: Upload and Prepare a Metadata Collection for Evaluation](./00.CreateMetadataCollection.ipynb)"
   ]
  },
  {
   "cell_type": "code",
   "execution_count": null,
   "metadata": {},
   "outputs": [],
   "source": []
  }
 ],
 "metadata": {
  "kernelspec": {
   "display_name": "Python 3",
   "language": "python",
   "name": "python3"
  },
  "language_info": {
   "codemirror_mode": {
    "name": "ipython",
    "version": 3
   },
   "file_extension": ".py",
   "mimetype": "text/x-python",
   "name": "python",
   "nbconvert_exporter": "python",
   "pygments_lexer": "ipython3",
   "version": "3.6.4"
  }
 },
 "nbformat": 4,
 "nbformat_minor": 2
}
