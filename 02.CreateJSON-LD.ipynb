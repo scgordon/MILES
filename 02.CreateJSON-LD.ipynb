{
 "cells": [
  {
   "cell_type": "markdown",
   "metadata": {},
   "source": [
    "# Create JSON-LD for a Metadata Collection with the schema.org Vocabulary Google Recommends for Datasets using the Conceptual Evaluation for the Recommendation\n",
    "### Notebook Goals\n",
    "* Create csv with recommendation concept content for the collection \n",
    "* Translate concept names into the schema.org vocabulary\n",
    "* Create valid JSON-LD for a record\n",
    "* Use Google's Structured Data Testing Tool to test results"
   ]
  },
  {
   "cell_type": "code",
   "execution_count": null,
   "metadata": {},
   "outputs": [],
   "source": [
    "# refine dataframe, create record json\n",
    "import pandas as pd\n",
    "# create dataframe structure that contains the records content\n",
    "import MDeval as md"
   ]
  },
  {
   "cell_type": "markdown",
   "metadata": {},
   "source": [
    "#### Describe the metadata. \n",
    "* What organization created the records? (Organization)\n",
    "* What collection are the records from? (Collection)\n",
    "* What dialect are the records written in? (Dialect)"
   ]
  },
  {
   "cell_type": "code",
   "execution_count": null,
   "metadata": {},
   "outputs": [],
   "source": [
    "# variables for function arguments, fill these out\n",
    "Organization = 'LTER'\n",
    "Collection = 'MILES'\n",
    "Dialect = 'EML'"
   ]
  },
  {
   "cell_type": "markdown",
   "metadata": {},
   "source": [
    "#### Read in the metadata's recommendation evaluated csv"
   ]
  },
  {
   "cell_type": "code",
   "execution_count": null,
   "metadata": {},
   "outputs": [],
   "source": [
    "''' \n",
    "Read in the recommendation evaluated csv created in the last Notebook\n",
    "defined by the variables from the previous cell\n",
    "''' \n",
    "RecommendationEvaluatedDF = pd.read_csv(\n",
    "    './data/'+Organization+'/'+Collection+'_'+Dialect+'_RecommendationEvaluated.csv'\n",
    ")"
   ]
  },
  {
   "cell_type": "markdown",
   "metadata": {},
   "source": [
    "#### Record Concept Content Function\n",
    "* Rows are records\n",
    "* Columns are concepts\n",
    "* Values are content from the record, comma separated if there are multiple instances"
   ]
  },
  {
   "cell_type": "code",
   "execution_count": null,
   "metadata": {},
   "outputs": [],
   "source": [
    "'''\n",
    "MDeval.recordConceptContent requires a dataframe with concepts. It creates a vertical view of\n",
    "recommendation concept content for each record in the collection.\n",
    "'''\n",
    "recordDF = md.recordConceptContent(RecommendationEvaluatedDF)\n",
    "# organize the table (readability)\n",
    "RecRecordDF = recordDF[['Collection', 'Record', 'Resource Title', 'Abstract',\n",
    "                        'Online Resource', 'Keyword',\n",
    "                        'Author / Originator', 'Distribution Format',\n",
    "                        'Resource Type', 'Resource Version',\n",
    "                        'Temporal Extent', 'Spatial Extent',\n",
    "                        'Resource Citation']]\n",
    "# display the dataframe\n",
    "RecRecordDF"
   ]
  },
  {
   "cell_type": "markdown",
   "metadata": {},
   "source": [
    "#### Choose a record to translate"
   ]
  },
  {
   "cell_type": "code",
   "execution_count": null,
   "metadata": {},
   "outputs": [],
   "source": [
    "# set RecordChoice variable\n",
    "RecordChoice = '1.xml'"
   ]
  },
  {
   "cell_type": "code",
   "execution_count": null,
   "metadata": {},
   "outputs": [],
   "source": [
    "# select record row using the RecordChoice variable, drop other rows\n",
    "RecRecordDF = RecRecordDF[RecRecordDF['Record'] == RecordChoice]\n",
    "# drop the Collection and Record columns\n",
    "RecRecordDF = RecRecordDF.drop(['Collection', 'Record'], 'columns')\n",
    "# display the chosen record's content\n",
    "RecRecordDF"
   ]
  },
  {
   "cell_type": "markdown",
   "metadata": {},
   "source": [
    "#### Translate concepts to schema.org vocabulary"
   ]
  },
  {
   "cell_type": "code",
   "execution_count": null,
   "metadata": {
    "scrolled": true
   },
   "outputs": [],
   "source": [
    "# apply a dictionary with column names that you want to rename with schema.org vocabulary words\n",
    "RecRecordDF = RecRecordDF.rename(\n",
    "    {'Resource Title':'name', 'Abstract':'description', 'Online Resource':'url',\n",
    "     'Keyword':'keywords', 'Author / Originator':'creator', 'Distribution Format': 'distribution',\n",
    "     'Resource Type':'@type', 'Resource Version': 'version', 'Temporal Extent': 'temporalCoverage',\n",
    "     'Spatial Extent': 'spatialCoverage', 'Resource Citation':'citation'}, axis='columns'\n",
    "    )\n",
    "# display the dataframe\n",
    "RecRecordDF"
   ]
  },
  {
   "cell_type": "markdown",
   "metadata": {},
   "source": [
    "#### Add the required context"
   ]
  },
  {
   "cell_type": "code",
   "execution_count": null,
   "metadata": {},
   "outputs": [],
   "source": [
    "'''\n",
    "insert a column in the third position with \"@context\" as the header\n",
    "and \"http://schema.org as the content\n",
    "'''\n",
    "RecRecordDF.insert(2, '@context', 'http://schema.org/')\n",
    "# display the dataframe\n",
    "RecRecordDF"
   ]
  },
  {
   "cell_type": "markdown",
   "metadata": {},
   "source": [
    "#### Create JSON-LD String"
   ]
  },
  {
   "cell_type": "code",
   "execution_count": null,
   "metadata": {},
   "outputs": [],
   "source": [
    "# create JSON using the pandas function \"to_json\" use the \"record\" orientation\n",
    "recordDict = RecRecordDF.to_json(orient='records')\n",
    "# add the HTML script element that declares the contents to be JSON-LD\n",
    "RecordJSONld = '<script type=\"application/ld+json\">' + recordDict[1:-1] + '</script>'\n",
    "# display the resultant string\n",
    "RecordJSONld"
   ]
  },
  {
   "cell_type": "markdown",
   "metadata": {},
   "source": [
    "#### Test JSON-LD for validity\n",
    "* Take string produced by the cell above and copy it.\n",
    "* Go to [Google's Structured Data Testing Tool](https://search.google.com/structured-data/testing-tool#new-test)\n",
    "* Select the \"Code Snippet Tab\"\n",
    "* Paste string and \"Run Test\"\n",
    "* Click on errors to highlight the portion of the string that needs improvement\n",
    "* Rerun test with the play button in the middle bottom of the screen"
   ]
  },
  {
   "cell_type": "markdown",
   "metadata": {},
   "source": [
    "[Bonus Notebook: Create a dialect specific translation using the recordXpathContent MDeval function](./03.CreateXpathJSON-LD.ipynb)"
   ]
  },
  {
   "cell_type": "code",
   "execution_count": null,
   "metadata": {},
   "outputs": [],
   "source": []
  }
 ],
 "metadata": {
  "kernelspec": {
   "display_name": "Python 3",
   "language": "python",
   "name": "python3"
  },
  "language_info": {
   "codemirror_mode": {
    "name": "ipython",
    "version": 3
   },
   "file_extension": ".py",
   "mimetype": "text/x-python",
   "name": "python",
   "nbconvert_exporter": "python",
   "pygments_lexer": "ipython3",
   "version": "3.6.4"
  }
 },
 "nbformat": 4,
 "nbformat_minor": 2
}
