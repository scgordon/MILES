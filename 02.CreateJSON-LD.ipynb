{
 "cells": [
  {
   "cell_type": "markdown",
   "metadata": {},
   "source": [
    "### Notebook Goals\n",
    "* Create csv with recommendation concept content for the collection \n",
    "* translate concept names into the schema.org vocabulary\n",
    "* create valid JSON-LD for a record\n",
    "* Use Google's Structured Data Testing Tool to test results"
   ]
  },
  {
   "cell_type": "code",
   "execution_count": 1,
   "metadata": {},
   "outputs": [],
   "source": [
    "# refine dataframe, create record json\n",
    "import pandas as pd\n",
    "# create dataframe structure that contains the records content\n",
    "import MDeval as md"
   ]
  },
  {
   "cell_type": "markdown",
   "metadata": {},
   "source": [
    "#### Describe the metadata. \n",
    "* What organization created the records? (Organization)\n",
    "* What collection are the records from? (Collection)\n",
    "* What dialect are the records written in? (Dialect)"
   ]
  },
  {
   "cell_type": "code",
   "execution_count": 2,
   "metadata": {},
   "outputs": [],
   "source": [
    "# variables for function arguments, fill these out\n",
    "Organization = 'ESIP'\n",
    "Collection = 'MILES'\n",
    "Dialect = 'ISO'"
   ]
  },
  {
   "cell_type": "markdown",
   "metadata": {},
   "source": [
    "#### Read in the metadata's recommendation evaluated csv"
   ]
  },
  {
   "cell_type": "code",
   "execution_count": 3,
   "metadata": {},
   "outputs": [],
   "source": [
    "# Read in the recommendation evaluated csv defined by the above variables\n",
    "RecommendationEvaluatedDF = pd.read_csv(\n",
    "    './data/'+Organization+'/'+Collection+'_'+Dialect+'_ConceptEvaluated.csv'\n",
    ")"
   ]
  },
  {
   "cell_type": "markdown",
   "metadata": {},
   "source": [
    "#### Record Concept Content Function\n",
    "* Rows are records\n",
    "* Columns are concepts"
   ]
  },
  {
   "cell_type": "code",
   "execution_count": 19,
   "metadata": {},
   "outputs": [
    {
     "data": {
      "text/html": [
       "<div>\n",
       "<style scoped>\n",
       "    .dataframe tbody tr th:only-of-type {\n",
       "        vertical-align: middle;\n",
       "    }\n",
       "\n",
       "    .dataframe tbody tr th {\n",
       "        vertical-align: top;\n",
       "    }\n",
       "\n",
       "    .dataframe thead th {\n",
       "        text-align: right;\n",
       "    }\n",
       "</style>\n",
       "<table border=\"1\" class=\"dataframe\">\n",
       "  <thead>\n",
       "    <tr style=\"text-align: right;\">\n",
       "      <th></th>\n",
       "      <th>Collection</th>\n",
       "      <th>Record</th>\n",
       "      <th>Resource Title</th>\n",
       "      <th>Abstract</th>\n",
       "      <th>Online Resource</th>\n",
       "      <th>Keyword</th>\n",
       "      <th>Author / Originator</th>\n",
       "      <th>Distribution Format</th>\n",
       "      <th>Resource Type</th>\n",
       "      <th>Resource Version</th>\n",
       "      <th>Temporal Extent</th>\n",
       "      <th>Spatial Extent</th>\n",
       "      <th>Resource Citation</th>\n",
       "    </tr>\n",
       "  </thead>\n",
       "  <tbody>\n",
       "    <tr>\n",
       "      <th>1</th>\n",
       "      <td>MILES</td>\n",
       "      <td>10.1016.j.ecoinf.2017.09.005.xml</td>\n",
       "      <td>The influence of community recommendations on ...</td>\n",
       "      <td>0.0</td>\n",
       "      <td>-1.0</td>\n",
       "      <td>0.0</td>\n",
       "      <td>0.0</td>\n",
       "      <td>0.0</td>\n",
       "      <td>Text</td>\n",
       "      <td>nan</td>\n",
       "      <td>-1.0</td>\n",
       "      <td>0.0</td>\n",
       "      <td>-1.0</td>\n",
       "    </tr>\n",
       "    <tr>\n",
       "      <th>2</th>\n",
       "      <td>MILES</td>\n",
       "      <td>10.1016.j.ecoinf.2017.09.006.xml</td>\n",
       "      <td>Application of open source tools for biodivers...</td>\n",
       "      <td>0.0</td>\n",
       "      <td>-1.0</td>\n",
       "      <td>0.0</td>\n",
       "      <td>0.0</td>\n",
       "      <td>0.0</td>\n",
       "      <td>Text</td>\n",
       "      <td>nan</td>\n",
       "      <td>-1.0</td>\n",
       "      <td>0.0</td>\n",
       "      <td>-1.0</td>\n",
       "    </tr>\n",
       "  </tbody>\n",
       "</table>\n",
       "</div>"
      ],
      "text/plain": [
       "  Collection                            Record  \\\n",
       "1      MILES  10.1016.j.ecoinf.2017.09.005.xml   \n",
       "2      MILES  10.1016.j.ecoinf.2017.09.006.xml   \n",
       "\n",
       "                                      Resource Title  Abstract  \\\n",
       "1  The influence of community recommendations on ...       0.0   \n",
       "2  Application of open source tools for biodivers...       0.0   \n",
       "\n",
       "   Online Resource  Keyword  Author / Originator  Distribution Format  \\\n",
       "1             -1.0      0.0                  0.0                  0.0   \n",
       "2             -1.0      0.0                  0.0                  0.0   \n",
       "\n",
       "  Resource Type Resource Version  Temporal Extent  Spatial Extent  \\\n",
       "1          Text              nan             -1.0             0.0   \n",
       "2          Text              nan             -1.0             0.0   \n",
       "\n",
       "   Resource Citation  \n",
       "1               -1.0  \n",
       "2               -1.0  "
      ]
     },
     "execution_count": 19,
     "metadata": {},
     "output_type": "execute_result"
    }
   ],
   "source": [
    "# Read in the recommendation evaluated csv created in the last Notebook\n",
    "RecommendationEvaluatedDF = pd.read_csv(\n",
    "    './data/'+Organization+'/'+Collection+'_'+Dialect+'_RecommendationEvaluated.csv'\n",
    ")\n",
    "''' requires a dataframe with concepts. Creates a vertical view of\n",
    "concept content for each record in the collection. Useful in the\n",
    "creation of json. \n",
    "'''\n",
    "recordDF = md.recordConceptContent(RecommendationEvaluatedDF)\n",
    "# organize the table (readability)\n",
    "RecRecordDF = recordDF[['Collection', 'Record', 'Resource Title', 'Abstract',\n",
    "                        'Online Resource', 'Keyword',\n",
    "                        'Author / Originator', 'Distribution Format',\n",
    "                        'Resource Type', 'Resource Version',\n",
    "                        'Temporal Extent', 'Spatial Extent',\n",
    "                        'Resource Citation']]\n",
    "# display the dataframe\n",
    "RecRecordDF"
   ]
  },
  {
   "cell_type": "markdown",
   "metadata": {},
   "source": [
    "#### Choose a record to translate"
   ]
  },
  {
   "cell_type": "code",
   "execution_count": 20,
   "metadata": {},
   "outputs": [],
   "source": [
    "# Set RecordChoice variable\n",
    "RecordChoice = '10.1016.j.ecoinf.2017.09.005.xml'"
   ]
  },
  {
   "cell_type": "code",
   "execution_count": 21,
   "metadata": {},
   "outputs": [
    {
     "data": {
      "text/html": [
       "<div>\n",
       "<style scoped>\n",
       "    .dataframe tbody tr th:only-of-type {\n",
       "        vertical-align: middle;\n",
       "    }\n",
       "\n",
       "    .dataframe tbody tr th {\n",
       "        vertical-align: top;\n",
       "    }\n",
       "\n",
       "    .dataframe thead th {\n",
       "        text-align: right;\n",
       "    }\n",
       "</style>\n",
       "<table border=\"1\" class=\"dataframe\">\n",
       "  <thead>\n",
       "    <tr style=\"text-align: right;\">\n",
       "      <th></th>\n",
       "      <th>Resource Title</th>\n",
       "      <th>Abstract</th>\n",
       "      <th>Online Resource</th>\n",
       "      <th>Keyword</th>\n",
       "      <th>Author / Originator</th>\n",
       "      <th>Distribution Format</th>\n",
       "      <th>Resource Type</th>\n",
       "      <th>Resource Version</th>\n",
       "      <th>Temporal Extent</th>\n",
       "      <th>Spatial Extent</th>\n",
       "      <th>Resource Citation</th>\n",
       "    </tr>\n",
       "  </thead>\n",
       "  <tbody>\n",
       "    <tr>\n",
       "      <th>1</th>\n",
       "      <td>The influence of community recommendations on ...</td>\n",
       "      <td>0.0</td>\n",
       "      <td>-1.0</td>\n",
       "      <td>0.0</td>\n",
       "      <td>0.0</td>\n",
       "      <td>0.0</td>\n",
       "      <td>Text</td>\n",
       "      <td>nan</td>\n",
       "      <td>-1.0</td>\n",
       "      <td>0.0</td>\n",
       "      <td>-1.0</td>\n",
       "    </tr>\n",
       "  </tbody>\n",
       "</table>\n",
       "</div>"
      ],
      "text/plain": [
       "                                      Resource Title  Abstract  \\\n",
       "1  The influence of community recommendations on ...       0.0   \n",
       "\n",
       "   Online Resource  Keyword  Author / Originator  Distribution Format  \\\n",
       "1             -1.0      0.0                  0.0                  0.0   \n",
       "\n",
       "  Resource Type Resource Version  Temporal Extent  Spatial Extent  \\\n",
       "1          Text              nan             -1.0             0.0   \n",
       "\n",
       "   Resource Citation  \n",
       "1               -1.0  "
      ]
     },
     "execution_count": 21,
     "metadata": {},
     "output_type": "execute_result"
    }
   ],
   "source": [
    "# Select record row\n",
    "RecRecordDF = RecRecordDF[RecRecordDF['Record'] == RecordChoice]\n",
    "# Drop the Collection and Record columns\n",
    "RecRecordDF = RecRecordDF.drop(['Collection', 'Record'], 'columns')\n",
    "# Display the chosen record's content\n",
    "RecRecordDF"
   ]
  },
  {
   "cell_type": "markdown",
   "metadata": {},
   "source": [
    "#### Translate concepts to schema.org vocabulary"
   ]
  },
  {
   "cell_type": "code",
   "execution_count": 22,
   "metadata": {
    "scrolled": true
   },
   "outputs": [
    {
     "data": {
      "text/html": [
       "<div>\n",
       "<style scoped>\n",
       "    .dataframe tbody tr th:only-of-type {\n",
       "        vertical-align: middle;\n",
       "    }\n",
       "\n",
       "    .dataframe tbody tr th {\n",
       "        vertical-align: top;\n",
       "    }\n",
       "\n",
       "    .dataframe thead th {\n",
       "        text-align: right;\n",
       "    }\n",
       "</style>\n",
       "<table border=\"1\" class=\"dataframe\">\n",
       "  <thead>\n",
       "    <tr style=\"text-align: right;\">\n",
       "      <th></th>\n",
       "      <th>name</th>\n",
       "      <th>description</th>\n",
       "      <th>url</th>\n",
       "      <th>keywords</th>\n",
       "      <th>creator</th>\n",
       "      <th>distribution</th>\n",
       "      <th>@type</th>\n",
       "      <th>version</th>\n",
       "      <th>temporalCoverage</th>\n",
       "      <th>spatialCoverage</th>\n",
       "      <th>citation</th>\n",
       "    </tr>\n",
       "  </thead>\n",
       "  <tbody>\n",
       "    <tr>\n",
       "      <th>1</th>\n",
       "      <td>The influence of community recommendations on ...</td>\n",
       "      <td>0.0</td>\n",
       "      <td>-1.0</td>\n",
       "      <td>0.0</td>\n",
       "      <td>0.0</td>\n",
       "      <td>0.0</td>\n",
       "      <td>Text</td>\n",
       "      <td>nan</td>\n",
       "      <td>-1.0</td>\n",
       "      <td>0.0</td>\n",
       "      <td>-1.0</td>\n",
       "    </tr>\n",
       "  </tbody>\n",
       "</table>\n",
       "</div>"
      ],
      "text/plain": [
       "                                                name  description  url  \\\n",
       "1  The influence of community recommendations on ...          0.0 -1.0   \n",
       "\n",
       "   keywords  creator  distribution @type version  temporalCoverage  \\\n",
       "1       0.0      0.0           0.0  Text     nan              -1.0   \n",
       "\n",
       "   spatialCoverage  citation  \n",
       "1              0.0      -1.0  "
      ]
     },
     "execution_count": 22,
     "metadata": {},
     "output_type": "execute_result"
    }
   ],
   "source": [
    "RecRecordDF = RecRecordDF.rename({'Resource Title':'name', 'Abstract':'description', 'Online Resource':'url', 'Keyword':'keywords', 'Author / Originator':'creator', 'Distribution Format': 'distribution', 'Resource Type':'@type', 'Resource Version': 'version', 'Temporal Extent': 'temporalCoverage', 'Spatial Extent': 'spatialCoverage', 'Resource Citation':'citation'}, axis='columns')\n",
    "RecRecordDF"
   ]
  },
  {
   "cell_type": "markdown",
   "metadata": {},
   "source": [
    "#### Add the required context"
   ]
  },
  {
   "cell_type": "code",
   "execution_count": 23,
   "metadata": {},
   "outputs": [
    {
     "data": {
      "text/html": [
       "<div>\n",
       "<style scoped>\n",
       "    .dataframe tbody tr th:only-of-type {\n",
       "        vertical-align: middle;\n",
       "    }\n",
       "\n",
       "    .dataframe tbody tr th {\n",
       "        vertical-align: top;\n",
       "    }\n",
       "\n",
       "    .dataframe thead th {\n",
       "        text-align: right;\n",
       "    }\n",
       "</style>\n",
       "<table border=\"1\" class=\"dataframe\">\n",
       "  <thead>\n",
       "    <tr style=\"text-align: right;\">\n",
       "      <th></th>\n",
       "      <th>name</th>\n",
       "      <th>description</th>\n",
       "      <th>@context</th>\n",
       "      <th>url</th>\n",
       "      <th>keywords</th>\n",
       "      <th>creator</th>\n",
       "      <th>distribution</th>\n",
       "      <th>@type</th>\n",
       "      <th>version</th>\n",
       "      <th>temporalCoverage</th>\n",
       "      <th>spatialCoverage</th>\n",
       "      <th>citation</th>\n",
       "    </tr>\n",
       "  </thead>\n",
       "  <tbody>\n",
       "    <tr>\n",
       "      <th>1</th>\n",
       "      <td>The influence of community recommendations on ...</td>\n",
       "      <td>0.0</td>\n",
       "      <td>http://schema.org/</td>\n",
       "      <td>-1.0</td>\n",
       "      <td>0.0</td>\n",
       "      <td>0.0</td>\n",
       "      <td>0.0</td>\n",
       "      <td>Text</td>\n",
       "      <td>nan</td>\n",
       "      <td>-1.0</td>\n",
       "      <td>0.0</td>\n",
       "      <td>-1.0</td>\n",
       "    </tr>\n",
       "  </tbody>\n",
       "</table>\n",
       "</div>"
      ],
      "text/plain": [
       "                                                name  description  \\\n",
       "1  The influence of community recommendations on ...          0.0   \n",
       "\n",
       "             @context  url  keywords  creator  distribution @type version  \\\n",
       "1  http://schema.org/ -1.0       0.0      0.0           0.0  Text     nan   \n",
       "\n",
       "   temporalCoverage  spatialCoverage  citation  \n",
       "1              -1.0              0.0      -1.0  "
      ]
     },
     "execution_count": 23,
     "metadata": {},
     "output_type": "execute_result"
    }
   ],
   "source": [
    "RecRecordDF.insert(2, '@context', 'http://schema.org/')\n",
    "RecRecordDF"
   ]
  },
  {
   "cell_type": "markdown",
   "metadata": {},
   "source": [
    "#### Create JSON-LD String"
   ]
  },
  {
   "cell_type": "code",
   "execution_count": 24,
   "metadata": {},
   "outputs": [
    {
     "data": {
      "text/plain": [
       "'<script type=\"application/ld+json\">{\"name\":\"The influence of community recommendations on metadata completeness\",\"description\":0.0,\"@context\":\"http:\\\\/\\\\/schema.org\\\\/\",\"url\":-1.0,\"keywords\":0.0,\"creator\":0.0,\"distribution\":0.0,\"@type\":\"Text\",\"version\":\"nan\",\"temporalCoverage\":-1.0,\"spatialCoverage\":0.0,\"citation\":-1.0}</script>'"
      ]
     },
     "execution_count": 24,
     "metadata": {},
     "output_type": "execute_result"
    }
   ],
   "source": [
    "recordDict = RecRecordDF.to_json(orient='records')\n",
    "RecordJSONld = '<script type=\"application/ld+json\">' + recordDict[1:-1] + '</script>'\n",
    "RecordJSONld"
   ]
  },
  {
   "cell_type": "markdown",
   "metadata": {},
   "source": [
    "#### Test JSON-LD for validity\n",
    "* Take string produced by the cell above and copy it.\n",
    "* Go to [Google's Structured Data Testing Tool](https://search.google.com/structured-data/testing-tool#new-test)\n",
    "* Select the \"Code Snippet Tab\"\n",
    "* Paste string and \"Run Test\"\n",
    "* Click on errors to highlight the portion of the string that needs improvement\n",
    "* rerun test with the play button in the middle bottom of the screen"
   ]
  },
  {
   "cell_type": "markdown",
   "metadata": {},
   "source": [
    "[Next Notebook: Create a dialect specific translation using the recordXpathContent MDeval function](./03.CreateXpathJSON-LD.ipynb)"
   ]
  },
  {
   "cell_type": "code",
   "execution_count": null,
   "metadata": {},
   "outputs": [],
   "source": []
  }
 ],
 "metadata": {
  "kernelspec": {
   "display_name": "Python 3",
   "language": "python",
   "name": "python3"
  },
  "language_info": {
   "codemirror_mode": {
    "name": "ipython",
    "version": 3
   },
   "file_extension": ".py",
   "mimetype": "text/x-python",
   "name": "python",
   "nbconvert_exporter": "python",
   "pygments_lexer": "ipython3",
   "version": "3.6.4"
  }
 },
 "nbformat": 4,
 "nbformat_minor": 2
}
