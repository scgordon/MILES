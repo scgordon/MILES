{
 "cells": [
  {
   "cell_type": "markdown",
   "metadata": {},
   "source": [
    "# Ingest and Prepare a Metadata Collection for Evaluation\n",
    "### Notebook Goals\n",
    "* How you can use JupyterLab's GUI to upload a metadata record or a zip of many records and move the metadata to a directory\n",
    "* Download a metadata collection from a repository or other URL\n",
    "* normalize namespace location so concepts can be read accurately by the Metadata Evaluation Web Service"
   ]
  },
  {
   "cell_type": "code",
   "execution_count": 3,
   "metadata": {},
   "outputs": [],
   "source": [
    "# create directories\n",
    "import os\n",
    "# compress metadata collection\n",
    "import zipfile\n",
    "# download records from a repository and prepare for evaluation\n",
    "import MDeval as md"
   ]
  },
  {
   "cell_type": "markdown",
   "metadata": {},
   "source": [
    "#### Describe the metadata. \n",
    "* What organization created the records? (Organization)\n",
    "* What collection are the records from? (Collection)\n",
    "* What dialect are the records written in? (Dialect)"
   ]
  },
  {
   "cell_type": "code",
   "execution_count": 4,
   "metadata": {},
   "outputs": [],
   "source": [
    "# variables for function arguments, fill these out\n",
    "Organization = 'MetadataAnalysis'\n",
    "Collection = 'MILESworkshop'\n",
    "Dialect = 'ISO'\n",
    "\n",
    "# variable created from other variables, defining where to put the metadata\n",
    "MetadataLocation = (\n",
    "    './metadata/' + Organization + '/' +\n",
    "    Collection + '/' + Dialect + '/xml'\n",
    ")\n",
    "# creates a directory\n",
    "os.makedirs(MetadataLocation, exist_ok=True)"
   ]
  },
  {
   "cell_type": "markdown",
   "metadata": {},
   "source": [
    "#### Upload through the graphical user interface:\n",
    "* use the file explorer on the left of your screen to navigate to the MILES directory. You'll see a metadata directory. Navigate to the *MetadataLocation* you created \n",
    "* Just above the directory and below the Lab toolbar is an arrow pointing up over a horizontal line. Click that and use the file explorer to select your metadata.\n",
    "* Optional: Use the GUI to upload a zip file called *metadata.zip* to the MILES directory, then unzip to the *MetadataLocation*."
   ]
  },
  {
   "cell_type": "code",
   "execution_count": 13,
   "metadata": {},
   "outputs": [],
   "source": [
    "# unpack the ingest of compressed files into the MetadataLocation\n",
    "with zipfile.ZipFile('./metadata.zip') as z:\n",
    "    fileNames = z.namelist()\n",
    "    for fileName in fileNames:\n",
    "        # only the xml and not other artifacts from the os that compressed it\n",
    "        if fileName.endswith('xml') and not fileName.startswith(\"_\"):\n",
    "            content = z.open(fileName).read()\n",
    "            # write the metadata to the MetadataLocation with the original name\n",
    "            open(MetadataLocation + fileName, 'wb').write(content)"
   ]
  },
  {
   "cell_type": "markdown",
   "metadata": {},
   "source": [
    "#### Download records from a repository\n",
    "* Create a list of record urls and a list of names for the records\n",
    "* Zip two lists together to supply pairs of arguments declaring the URL of the metadata record and the name of the record. The items will be paired in order, first *urls* with first *xml_files*"
   ]
  },
  {
   "cell_type": "code",
   "execution_count": 3,
   "metadata": {},
   "outputs": [],
   "source": [
    "# variables for function arguments\n",
    "\n",
    "# locations of metadata\n",
    "urls = [\"https://data.datacite.org/application/vnd.datacite.datacite+xml/10.1016/j.ecoinf.2017.09.005\",\n",
    "        \"https://data.datacite.org/application/vnd.datacite.datacite+xml/10.1016/j.ecoinf.2017.09.006\"\n",
    "       ]\n",
    "\n",
    "# names you want to give the records\n",
    "xml_files = [MetadataLocation + '/' + '10.1016.j.ecoinf.2017.09.005' + '.xml',\n",
    "             MetadataLocation + '/' + '10.1016.j.ecoinf.2017.09.006' + '.xml'\n",
    "            ]   \n",
    "# MDeval function to retrieve records\n",
    "md.get_records(urls, xml_files, well_formed=False)"
   ]
  },
  {
   "cell_type": "markdown",
   "metadata": {},
   "source": [
    "#### Ensure namespace conformance\n",
    "A note on namespaces - the transform identifies dialect from the default or explicit schema location. This means if I have records referencing DataCite kernel 4 instead of kernel 3, the conceptual content of the record will not be recognized. The records must be altered to point to kernel 3."
   ]
  },
  {
   "cell_type": "code",
   "execution_count": 9,
   "metadata": {},
   "outputs": [
    {
     "name": "stdout",
     "output_type": "stream",
     "text": [
      "./metadata/MetadataAnalysis/MILESworkshop/DCITE/xml/10.1016.j.ecoinf.2017.09.006.xml is normalized\n",
      "./metadata/MetadataAnalysis/MILESworkshop/DCITE/xml/10.1016.j.ecoinf.2017.09.005.xml is normalized\n"
     ]
    }
   ],
   "source": [
    "# variables for function arguments\n",
    "oldNamespaceLocation = 'xmlns=\"http://datacite.org/schema/kernel-4\"'\n",
    "newNamespaceLocation = 'xmlns=\"http://datacite.org/schema/kernel-3\"'\n",
    "# MDeval function to find and replace the old with the new.\n",
    "md.normalizeNamespace(MetadataLocation, newNamespaceLocation, oldNamespaceLocation)"
   ]
  },
  {
   "cell_type": "markdown",
   "metadata": {},
   "source": [
    "#### Now you are ready to evaluate, analyze, and create reports on your own metadata!\n",
    "[Next Notebook: Create Recommendation Report for a Metadata Collection](./01.CreateRecReport.ipynb)"
   ]
  },
  {
   "cell_type": "code",
   "execution_count": null,
   "metadata": {},
   "outputs": [],
   "source": []
  }
 ],
 "metadata": {
  "kernelspec": {
   "display_name": "Python 3",
   "language": "python",
   "name": "python3"
  },
  "language_info": {
   "codemirror_mode": {
    "name": "ipython",
    "version": 3
   },
   "file_extension": ".py",
   "mimetype": "text/x-python",
   "name": "python",
   "nbconvert_exporter": "python",
   "pygments_lexer": "ipython3",
   "version": "3.6.4"
  }
 },
 "nbformat": 4,
 "nbformat_minor": 2
}
