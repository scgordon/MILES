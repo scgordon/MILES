{
 "cells": [
  {
   "cell_type": "markdown",
   "metadata": {},
   "source": [
    "### Notebook Goals\n",
    "* Create dataframe with xpath content for the collection \n",
    "* translate xpath names into the schema.org vocabulary\n",
    "* create valid JSON-LD for a record\n",
    "* Use Google's Structured Data Testing Tool to test results"
   ]
  },
  {
   "cell_type": "code",
   "execution_count": null,
   "metadata": {},
   "outputs": [],
   "source": [
    "# refine dataframe, create record json\n",
    "import pandas as pd\n",
    "# create dataframe structure that contains the records content\n",
    "import MDeval as md"
   ]
  },
  {
   "cell_type": "markdown",
   "metadata": {},
   "source": [
    "#### Describe the metadata. \n",
    "* What organization created the records? (Organization)\n",
    "* What collection are the records from? (Collection)\n",
    "* What dialect are the records written in? (Dialect)"
   ]
  },
  {
   "cell_type": "code",
   "execution_count": null,
   "metadata": {},
   "outputs": [],
   "source": [
    "# variables for function arguments, fill these out\n",
    "Organization = 'LTER'\n",
    "Collection = 'MILES'\n",
    "Dialect = 'EML'"
   ]
  },
  {
   "cell_type": "markdown",
   "metadata": {},
   "source": [
    "#### Read in the metadata's xpath evaluated csv"
   ]
  },
  {
   "cell_type": "code",
   "execution_count": null,
   "metadata": {},
   "outputs": [],
   "source": [
    "# Read in the recommendation evaluated csv defined by the above variables\n",
    "RecommendationEvaluatedDF = pd.read_csv(\n",
    "    './data/'+Organization+'/'+Collection+'_'+Dialect+'_ElementEvaluated.csv'\n",
    ")"
   ]
  },
  {
   "cell_type": "markdown",
   "metadata": {},
   "source": [
    "#### Record Xpath Content Function\n",
    "* Rows are records\n",
    "* Columns are Xpaths"
   ]
  },
  {
   "cell_type": "code",
   "execution_count": null,
   "metadata": {},
   "outputs": [],
   "source": [
    "''' requires a dataframe with concepts. Creates a vertical view of\n",
    "xpath content for each record in the collection. Useful in the\n",
    "creation of json. \n",
    "'''\n",
    "recordDF = md.recordXpathContent(RecommendationEvaluatedDF)\n",
    "\n",
    "recordDF"
   ]
  },
  {
   "cell_type": "markdown",
   "metadata": {},
   "source": [
    "#### Choose a record to translate"
   ]
  },
  {
   "cell_type": "code",
   "execution_count": null,
   "metadata": {},
   "outputs": [],
   "source": [
    "# Set RecordChoice variable\n",
    "RecordChoice = 'dataset_3484.xml'"
   ]
  },
  {
   "cell_type": "code",
   "execution_count": null,
   "metadata": {},
   "outputs": [],
   "source": [
    "# Select record row\n",
    "recordDF = recordDF[recordDF['Record'] == RecordChoice]\n",
    "# Drop the Collection and Record columns\n",
    "recordDF = recordDF.drop(['Collection', 'Record'], 'columns')\n",
    "# Display the chosen record's content\n",
    "recordDF"
   ]
  },
  {
   "cell_type": "code",
   "execution_count": null,
   "metadata": {},
   "outputs": [],
   "source": []
  },
  {
   "cell_type": "markdown",
   "metadata": {},
   "source": [
    "#### Translate xpaths to schema.org vocabulary\n",
    "* identify xpaths that crosswalk\n",
    "* replace 'xpathN' with xpath from dialect"
   ]
  },
  {
   "cell_type": "code",
   "execution_count": null,
   "metadata": {
    "scrolled": true
   },
   "outputs": [],
   "source": [
    "recordDF = recordDF.rename({'xpath0':'name', 'xpath1':'description', 'xpath2':'url', 'xpath3':'keywords', 'xpath4':'creator', 'xpath5': 'distribution', 'xpath6':'@type', 'xpath7': 'version', 'xpath8': 'temporalCoverage', 'xpath9': 'spatialCoverage', 'xpath10':'citation'}, axis='columns')\n",
    "recordDF"
   ]
  },
  {
   "cell_type": "markdown",
   "metadata": {},
   "source": [
    "#### Add the required context"
   ]
  },
  {
   "cell_type": "code",
   "execution_count": null,
   "metadata": {},
   "outputs": [],
   "source": [
    "recordDF.insert(2, '@context', 'http://schema.org/')\n",
    "recordDF"
   ]
  },
  {
   "cell_type": "markdown",
   "metadata": {},
   "source": [
    "#### Create JSON-LD string for adding to the header of the landing page in the repository"
   ]
  },
  {
   "cell_type": "code",
   "execution_count": null,
   "metadata": {},
   "outputs": [],
   "source": [
    "recordJSON = recordDF.to_json(orient='records')\n",
    "RecordJSONld = '<script type=\"application/ld+json\">' + recordJSON[1:-1] + '</script>'\n",
    "RecordJSONld"
   ]
  },
  {
   "cell_type": "markdown",
   "metadata": {},
   "source": [
    "#### Test JSON-LD for validity\n",
    "* Take string produced by the cell above and copy it.\n",
    "* Go to [Google's Structured Data Testing Tool](https://search.google.com/structured-data/testing-tool#new-test)\n",
    "* Select the \"Code Snippet Tab\"\n",
    "* Paste string and \"Run Test\"\n",
    "* Click on errors to highlight the portion of the string that needs improvement\n",
    "* rerun test with the play button in the middle bottom of the screen"
   ]
  },
  {
   "cell_type": "markdown",
   "metadata": {},
   "source": [
    "#### Consider using another JSON writer\n",
    "\n",
    "* Some of the schema.org vocabulary used in the recommendation for a dataset is nested.\n",
    "* [hone](https://github.com/chamkank/hone) can create a nested JSON representation.\n",
    "* While I haven't explored it yet, it is possible to replace the slashes in the xpaths with spaces. This should mean it's possible to create a nested JSON representation of the dialect as well. "
   ]
  },
  {
   "cell_type": "code",
   "execution_count": null,
   "metadata": {},
   "outputs": [],
   "source": [
    "# needed to create nest JSON\n",
    "import hone\n",
    "\n",
    "#requires a csv to read\n",
    "\n",
    "# define csv location\n",
    "toNestedJSON = (\n",
    "    './data/' + Organization + '/' + Collection +\n",
    "    '_' + Dialect + '_toNestedJSON.csv')\n",
    "# change xpath headers in dataframe to delimiters used to nest\n",
    "recordDF.columns = recordDF.columns.str.replace(\"[/]\", \"\")\n",
    "# write results to csv\n",
    "recordDF.to_csv(\n",
    "    toNestedJSON, index=False\n",
    ")\n",
    "# write JSON\n",
    "Hone = hone.Hone()\n",
    "schema = Hone.get_schema(toNestedJSON)\n",
    "# display JSON\n",
    "schema"
   ]
  },
  {
   "cell_type": "markdown",
   "metadata": {},
   "source": [
    "#### Consider creating a validation workflow for your JSON output from tools such as:\n",
    "\n",
    "* https://github.com/digitalbazaar/pyld\n",
    "* https://github.com/RDFLib/rdflib-jsonld"
   ]
  },
  {
   "cell_type": "markdown",
   "metadata": {},
   "source": [
    "#### Improve workflow for specific dialect needs and share the resulting notebook(s) in the workshop_shared directory in the scgordon/participants directory to facilitate collaboration!"
   ]
  },
  {
   "cell_type": "code",
   "execution_count": null,
   "metadata": {},
   "outputs": [],
   "source": []
  }
 ],
 "metadata": {
  "kernelspec": {
   "display_name": "Python 3",
   "language": "python",
   "name": "python3"
  },
  "language_info": {
   "codemirror_mode": {
    "name": "ipython",
    "version": 3
   },
   "file_extension": ".py",
   "mimetype": "text/x-python",
   "name": "python",
   "nbconvert_exporter": "python",
   "pygments_lexer": "ipython3",
   "version": "3.6.4"
  }
 },
 "nbformat": 4,
 "nbformat_minor": 2
}
