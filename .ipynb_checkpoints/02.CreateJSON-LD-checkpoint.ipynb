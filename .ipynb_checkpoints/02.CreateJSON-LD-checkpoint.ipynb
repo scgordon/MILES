{
 "cells": [
  {
   "cell_type": "markdown",
   "metadata": {},
   "source": [
    "### Notebook Goals\n",
    "* Create csv with recommendation concept content for the collection \n",
    "* translate concept names into the schema.org vocabulary\n",
    "* create valid JSON-LD for a record\n",
    "* Use Google's Structured Data Testing Tool to test results"
   ]
  },
  {
   "cell_type": "code",
   "execution_count": 1,
   "metadata": {},
   "outputs": [],
   "source": [
    "# refine dataframe, create record json\n",
    "import pandas as pd\n",
    "# create dataframe structure that contains the records content\n",
    "import MDeval as md"
   ]
  },
  {
   "cell_type": "markdown",
   "metadata": {},
   "source": [
    "#### Describe the metadata. \n",
    "* What organization created the records? (Organization)\n",
    "* What collection are the records from? (Collection)\n",
    "* What dialect are the records written in? (Dialect)"
   ]
  },
  {
   "cell_type": "code",
   "execution_count": 2,
   "metadata": {},
   "outputs": [],
   "source": [
    "Organization = 'BCO-DMO'\n",
    "Collection = 'GeoTraces'\n",
    "Dialect = 'ISO'"
   ]
  },
  {
   "cell_type": "markdown",
   "metadata": {},
   "source": [
    "#### Read in the metadata's recommendation evaluated csv"
   ]
  },
  {
   "cell_type": "code",
   "execution_count": 3,
   "metadata": {},
   "outputs": [],
   "source": [
    "# Read in the recommendation evaluated csv defined by the above variables\n",
    "RecommendationEvaluatedDF = pd.read_csv(\n",
    "    './data/'+Organization+'/'+Collection+'_'+Dialect+'_ConceptEvaluated.csv'\n",
    ")"
   ]
  },
  {
   "cell_type": "markdown",
   "metadata": {},
   "source": [
    "#### Record Concept Content Function\n",
    "* Rows are records\n",
    "* Columns are concepts"
   ]
  },
  {
   "cell_type": "code",
   "execution_count": 5,
   "metadata": {},
   "outputs": [
    {
     "data": {
      "text/html": [
       "<div>\n",
       "<style scoped>\n",
       "    .dataframe tbody tr th:only-of-type {\n",
       "        vertical-align: middle;\n",
       "    }\n",
       "\n",
       "    .dataframe tbody tr th {\n",
       "        vertical-align: top;\n",
       "    }\n",
       "\n",
       "    .dataframe thead th {\n",
       "        text-align: right;\n",
       "    }\n",
       "</style>\n",
       "<table border=\"1\" class=\"dataframe\">\n",
       "  <thead>\n",
       "    <tr style=\"text-align: right;\">\n",
       "      <th></th>\n",
       "      <th>Collection</th>\n",
       "      <th>Record</th>\n",
       "      <th>/gmi:MI_Metadata/@xsi:schemaLocation</th>\n",
       "      <th>/gmi:MI_Metadata/gmd:characterSet/gmd:MD_CharacterSetCode</th>\n",
       "      <th>/gmi:MI_Metadata/gmd:characterSet/gmd:MD_CharacterSetCode/@codeList</th>\n",
       "      <th>/gmi:MI_Metadata/gmd:characterSet/gmd:MD_CharacterSetCode/@codeListValue</th>\n",
       "      <th>/gmi:MI_Metadata/gmd:contact/gmd:CI_ResponsibleParty/gmd:contactInfo/gmd:CI_Contact/gmd:address/gmd:CI_Address/gmd:administrativeArea/gco:CharacterString</th>\n",
       "      <th>/gmi:MI_Metadata/gmd:contact/gmd:CI_ResponsibleParty/gmd:contactInfo/gmd:CI_Contact/gmd:address/gmd:CI_Address/gmd:city/gco:CharacterString</th>\n",
       "      <th>/gmi:MI_Metadata/gmd:contact/gmd:CI_ResponsibleParty/gmd:contactInfo/gmd:CI_Contact/gmd:address/gmd:CI_Address/gmd:country/gco:CharacterString</th>\n",
       "      <th>/gmi:MI_Metadata/gmd:contact/gmd:CI_ResponsibleParty/gmd:contactInfo/gmd:CI_Contact/gmd:address/gmd:CI_Address/gmd:deliveryPoint/gco:CharacterString</th>\n",
       "      <th>...</th>\n",
       "      <th>/gmi:MI_Metadata/gmi:acquisitionInformation/gmi:MI_AcquisitionInformation/gmi:operation/gmi:MI_Operation/gmi:platform/gmi:MI_Platform/gmi:identifier/gmd:MD_Identifier/gmd:authority/gmd:CI_Citation/gmd:title/gmx:Anchor/@xlink:href</th>\n",
       "      <th>/gmi:MI_Metadata/gmi:acquisitionInformation/gmi:MI_AcquisitionInformation/gmi:operation/gmi:MI_Operation/gmi:platform/gmi:MI_Platform/gmi:identifier/gmd:MD_Identifier/gmd:code/gmx:Anchor</th>\n",
       "      <th>/gmi:MI_Metadata/gmi:acquisitionInformation/gmi:MI_AcquisitionInformation/gmi:operation/gmi:MI_Operation/gmi:platform/gmi:MI_Platform/gmi:identifier/gmd:MD_Identifier/gmd:code/gmx:Anchor/@xlink:actuate</th>\n",
       "      <th>/gmi:MI_Metadata/gmi:acquisitionInformation/gmi:MI_AcquisitionInformation/gmi:operation/gmi:MI_Operation/gmi:platform/gmi:MI_Platform/gmi:identifier/gmd:MD_Identifier/gmd:code/gmx:Anchor/@xlink:href</th>\n",
       "      <th>/gmi:MI_Metadata/gmi:acquisitionInformation/gmi:MI_AcquisitionInformation/gmi:operation/gmi:MI_Operation/gmi:platform/gmi:MI_Platform/gmi:identifier/gmd:MD_Identifier/gmd:code/gmx:Anchor/@xlink:title</th>\n",
       "      <th>/gmi:MI_Metadata/gmi:acquisitionInformation/gmi:MI_AcquisitionInformation/gmi:operation/gmi:MI_Operation/gmi:platform/gmi:MI_Platform/gmi:instrument/@gco:nilReason</th>\n",
       "      <th>/gmi:MI_Metadata/gmi:acquisitionInformation/gmi:MI_AcquisitionInformation/gmi:operation/gmi:MI_Operation/gmi:status/gmd:MD_ProgressCode/@codeList</th>\n",
       "      <th>/gmi:MI_Metadata/gmi:acquisitionInformation/gmi:MI_AcquisitionInformation/gmi:operation/gmi:MI_Operation/gmi:status/gmd:MD_ProgressCode/@codeListValue</th>\n",
       "      <th>/gmi:MI_Metadata/gmi:acquisitionInformation/gmi:MI_AcquisitionInformation/gmi:operation/gmi:MI_Operation/gmi:type/gmi:MI_OperationTypeCode/@codeList</th>\n",
       "      <th>/gmi:MI_Metadata/gmi:acquisitionInformation/gmi:MI_AcquisitionInformation/gmi:operation/gmi:MI_Operation/gmi:type/gmi:MI_OperationTypeCode/@codeListValue</th>\n",
       "    </tr>\n",
       "  </thead>\n",
       "  <tbody>\n",
       "    <tr>\n",
       "      <th>1</th>\n",
       "      <td>GeoTraces</td>\n",
       "      <td>dataset_3484.xml</td>\n",
       "      <td>http://www.isotc211.org/2005/gmi http://www.ng...</td>\n",
       "      <td>utf8</td>\n",
       "      <td>http://www.isotc211.org/2005/resources/Codelis...</td>\n",
       "      <td>utf8</td>\n",
       "      <td>MA</td>\n",
       "      <td>Woods Hole</td>\n",
       "      <td>USA</td>\n",
       "      <td>WHOI MS#36</td>\n",
       "      <td>...</td>\n",
       "      <td>http://lod.bco-dmo.org/id/authority/1.rdf, htt...</td>\n",
       "      <td>R/V Knorr, R/V Knorr</td>\n",
       "      <td>onRequest, onRequest</td>\n",
       "      <td>http://lod.bco-dmo.org/id/platform/53994.rdf, ...</td>\n",
       "      <td>316N, 316N</td>\n",
       "      <td>unknown, unknown</td>\n",
       "      <td>http://www.ngdc.noaa.gov/metadata/published/xs...</td>\n",
       "      <td>completed, completed</td>\n",
       "      <td>http://www.ngdc.noaa.gov/metadata/published/xs...</td>\n",
       "      <td>real, real</td>\n",
       "    </tr>\n",
       "  </tbody>\n",
       "</table>\n",
       "<p>1 rows × 283 columns</p>\n",
       "</div>"
      ],
      "text/plain": [
       "  Collection            Record  \\\n",
       "1  GeoTraces  dataset_3484.xml   \n",
       "\n",
       "                /gmi:MI_Metadata/@xsi:schemaLocation  \\\n",
       "1  http://www.isotc211.org/2005/gmi http://www.ng...   \n",
       "\n",
       "  /gmi:MI_Metadata/gmd:characterSet/gmd:MD_CharacterSetCode  \\\n",
       "1                                               utf8          \n",
       "\n",
       "  /gmi:MI_Metadata/gmd:characterSet/gmd:MD_CharacterSetCode/@codeList  \\\n",
       "1  http://www.isotc211.org/2005/resources/Codelis...                    \n",
       "\n",
       "  /gmi:MI_Metadata/gmd:characterSet/gmd:MD_CharacterSetCode/@codeListValue  \\\n",
       "1                                               utf8                         \n",
       "\n",
       "  /gmi:MI_Metadata/gmd:contact/gmd:CI_ResponsibleParty/gmd:contactInfo/gmd:CI_Contact/gmd:address/gmd:CI_Address/gmd:administrativeArea/gco:CharacterString  \\\n",
       "1                                                 MA                                                                                                          \n",
       "\n",
       "  /gmi:MI_Metadata/gmd:contact/gmd:CI_ResponsibleParty/gmd:contactInfo/gmd:CI_Contact/gmd:address/gmd:CI_Address/gmd:city/gco:CharacterString  \\\n",
       "1                                         Woods Hole                                                                                            \n",
       "\n",
       "  /gmi:MI_Metadata/gmd:contact/gmd:CI_ResponsibleParty/gmd:contactInfo/gmd:CI_Contact/gmd:address/gmd:CI_Address/gmd:country/gco:CharacterString  \\\n",
       "1                                                USA                                                                                               \n",
       "\n",
       "  /gmi:MI_Metadata/gmd:contact/gmd:CI_ResponsibleParty/gmd:contactInfo/gmd:CI_Contact/gmd:address/gmd:CI_Address/gmd:deliveryPoint/gco:CharacterString  \\\n",
       "1                                         WHOI MS#36                                                                                                     \n",
       "\n",
       "                                                                             ...                                                                             \\\n",
       "1                                                                            ...                                                                              \n",
       "\n",
       "  /gmi:MI_Metadata/gmi:acquisitionInformation/gmi:MI_AcquisitionInformation/gmi:operation/gmi:MI_Operation/gmi:platform/gmi:MI_Platform/gmi:identifier/gmd:MD_Identifier/gmd:authority/gmd:CI_Citation/gmd:title/gmx:Anchor/@xlink:href  \\\n",
       "1  http://lod.bco-dmo.org/id/authority/1.rdf, htt...                                                                                                                                                                                      \n",
       "\n",
       "  /gmi:MI_Metadata/gmi:acquisitionInformation/gmi:MI_AcquisitionInformation/gmi:operation/gmi:MI_Operation/gmi:platform/gmi:MI_Platform/gmi:identifier/gmd:MD_Identifier/gmd:code/gmx:Anchor  \\\n",
       "1                               R/V Knorr, R/V Knorr                                                                                                                                           \n",
       "\n",
       "  /gmi:MI_Metadata/gmi:acquisitionInformation/gmi:MI_AcquisitionInformation/gmi:operation/gmi:MI_Operation/gmi:platform/gmi:MI_Platform/gmi:identifier/gmd:MD_Identifier/gmd:code/gmx:Anchor/@xlink:actuate  \\\n",
       "1                               onRequest, onRequest                                                                                                                                                          \n",
       "\n",
       "  /gmi:MI_Metadata/gmi:acquisitionInformation/gmi:MI_AcquisitionInformation/gmi:operation/gmi:MI_Operation/gmi:platform/gmi:MI_Platform/gmi:identifier/gmd:MD_Identifier/gmd:code/gmx:Anchor/@xlink:href  \\\n",
       "1  http://lod.bco-dmo.org/id/platform/53994.rdf, ...                                                                                                                                                       \n",
       "\n",
       "  /gmi:MI_Metadata/gmi:acquisitionInformation/gmi:MI_AcquisitionInformation/gmi:operation/gmi:MI_Operation/gmi:platform/gmi:MI_Platform/gmi:identifier/gmd:MD_Identifier/gmd:code/gmx:Anchor/@xlink:title  \\\n",
       "1                                         316N, 316N                                                                                                                                                        \n",
       "\n",
       "  /gmi:MI_Metadata/gmi:acquisitionInformation/gmi:MI_AcquisitionInformation/gmi:operation/gmi:MI_Operation/gmi:platform/gmi:MI_Platform/gmi:instrument/@gco:nilReason  \\\n",
       "1                                   unknown, unknown                                                                                                                    \n",
       "\n",
       "  /gmi:MI_Metadata/gmi:acquisitionInformation/gmi:MI_AcquisitionInformation/gmi:operation/gmi:MI_Operation/gmi:status/gmd:MD_ProgressCode/@codeList  \\\n",
       "1  http://www.ngdc.noaa.gov/metadata/published/xs...                                                                                                  \n",
       "\n",
       "  /gmi:MI_Metadata/gmi:acquisitionInformation/gmi:MI_AcquisitionInformation/gmi:operation/gmi:MI_Operation/gmi:status/gmd:MD_ProgressCode/@codeListValue  \\\n",
       "1                               completed, completed                                                                                                       \n",
       "\n",
       "  /gmi:MI_Metadata/gmi:acquisitionInformation/gmi:MI_AcquisitionInformation/gmi:operation/gmi:MI_Operation/gmi:type/gmi:MI_OperationTypeCode/@codeList  \\\n",
       "1  http://www.ngdc.noaa.gov/metadata/published/xs...                                                                                                     \n",
       "\n",
       "  /gmi:MI_Metadata/gmi:acquisitionInformation/gmi:MI_AcquisitionInformation/gmi:operation/gmi:MI_Operation/gmi:type/gmi:MI_OperationTypeCode/@codeListValue  \n",
       "1                                         real, real                                                                                                         \n",
       "\n",
       "[1 rows x 283 columns]"
      ]
     },
     "execution_count": 5,
     "metadata": {},
     "output_type": "execute_result"
    }
   ],
   "source": [
    "# Read in the recommendation evaluated csv created in the last Notebook\n",
    "RecommendationEvaluatedDF = pd.read_csv(\n",
    "    './data/'+Organization+'/'+Collection+'_'+Dialect+'_RecommendationEvaluated.csv'\n",
    ")\n",
    "''' requires a dataframe with concepts. Creates a vertical view of\n",
    "concept content for each record in the collection. Useful in the\n",
    "creation of json. \n",
    "'''\n",
    "recordDF = md.recordConceptContent(RecommendationEvaluatedDF)\n",
    "# organize the table (readability)\n",
    "RecRecordDF = recordDF[['Collection', 'Record', 'Resource Title', 'Abstract',\n",
    "                        'Online Resource', 'Keyword',\n",
    "                        'Author / Originator', 'Distribution Format',\n",
    "                        'Resource Type', 'Resource Version',\n",
    "                        'Temporal Extent', 'Spatial Extent',\n",
    "                        'Resource Citation']]\n",
    "# display the dataframe\n",
    "RecRecordDF"
   ]
  },
  {
   "cell_type": "markdown",
   "metadata": {},
   "source": [
    "#### Choose a record to translate"
   ]
  },
  {
   "cell_type": "code",
   "execution_count": null,
   "metadata": {},
   "outputs": [],
   "source": [
    "# Set RecordChoice variable\n",
    "RecordChoice = 'dataset_3484.xml'"
   ]
  },
  {
   "cell_type": "code",
   "execution_count": null,
   "metadata": {},
   "outputs": [],
   "source": [
    "# Select record row\n",
    "RecRecordDF = RecRecordDF[RecRecordDF['Record'] == RecordChoice]\n",
    "# Drop the Collection and Record columns\n",
    "RecRecordDF = RecRecordDF.drop(['Collection', 'Record'], 'columns')\n",
    "# Display the chosen record's content\n",
    "RecRecordDF"
   ]
  },
  {
   "cell_type": "markdown",
   "metadata": {},
   "source": [
    "#### Translate concepts to schema.org vocabulary"
   ]
  },
  {
   "cell_type": "code",
   "execution_count": null,
   "metadata": {
    "scrolled": true
   },
   "outputs": [],
   "source": [
    "RecRecordDF = RecRecordDF.rename({'dialectXpathHere':'name', 'Abstract':'description', 'Online Resource':'url', 'Keyword':'keywords', 'Author / Originator':'creator', 'Distribution Format': 'distribution', 'Resource Type':'@type', 'Resource Version': 'version', 'Temporal Extent': 'temporalCoverage', 'Spatial Extent': 'spatialCoverage', 'Resource Citation':'citation'}, axis='columns')\n",
    "RecRecordDF"
   ]
  },
  {
   "cell_type": "markdown",
   "metadata": {},
   "source": [
    "#### Add the required context"
   ]
  },
  {
   "cell_type": "code",
   "execution_count": null,
   "metadata": {},
   "outputs": [],
   "source": [
    "RecRecordDF.insert(2, '@context', 'yourXMLschemaLocation')\n",
    "RecRecordDF"
   ]
  },
  {
   "cell_type": "markdown",
   "metadata": {},
   "source": [
    "#### Create JSON-LD String"
   ]
  },
  {
   "cell_type": "code",
   "execution_count": null,
   "metadata": {},
   "outputs": [],
   "source": [
    "recordDict = RecRecordDF.to_json(orient='records')\n",
    "RecordJSONld = '<script type=\"application/ld+json\">' + recordDict[1:-1] + '</script>'\n",
    "RecordJSONld"
   ]
  },
  {
   "cell_type": "markdown",
   "metadata": {},
   "source": [
    "#### Test JSON-LD for validity\n",
    "* Take string produced by the cell above and copy it.\n",
    "* Go to [Google's Structured Data Testing Tool](https://search.google.com/structured-data/testing-tool#new-test)\n",
    "* Select the \"Code Snippet Tab\"\n",
    "* Paste string and \"Run Test\"\n",
    "* Click on errors to highlight the portion of the string that needs improvement\n",
    "* rerun test with the play button in the middle bottom of the screen"
   ]
  },
  {
   "cell_type": "markdown",
   "metadata": {},
   "source": [
    "[Next Notebook: Create a dialect specific translation using the recordXpathContent MDeval function](./03.CreateXpathJSON-LD.ipynb)"
   ]
  },
  {
   "cell_type": "code",
   "execution_count": null,
   "metadata": {},
   "outputs": [],
   "source": []
  }
 ],
 "metadata": {
  "kernelspec": {
   "display_name": "Python 3",
   "language": "python",
   "name": "python3"
  },
  "language_info": {
   "codemirror_mode": {
    "name": "ipython",
    "version": 3
   },
   "file_extension": ".py",
   "mimetype": "text/x-python",
   "name": "python",
   "nbconvert_exporter": "python",
   "pygments_lexer": "ipython3",
   "version": "3.6.4"
  }
 },
 "nbformat": 4,
 "nbformat_minor": 2
}
