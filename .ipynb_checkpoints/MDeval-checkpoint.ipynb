{
 "cells": [
  {
   "cell_type": "markdown",
   "metadata": {},
   "source": [
    "### Notebook Goals\n",
    "* upload metadata from repo/website(10)(Sean)\n",
    "* evaluate for concepts and xpaths(10)(Sean)\n",
    "* Create collection spreadsheet(10)(Sean)\n",
    "* create Google sheet(10)(Sean)\n"
   ]
  },
  {
   "cell_type": "code",
   "execution_count": null,
   "metadata": {},
   "outputs": [],
   "source": [
    "import os\n",
    "import pandas as pd\n",
    "import MDeval as md"
   ]
  },
  {
   "cell_type": "markdown",
   "metadata": {},
   "source": [
    "#### Choose some Metadata\n",
    "* a note on schema conformance- the transform identifies dialect from the default or explicit schema location. This means if I declare I'm using EML, but not the schema location the dialect was built from, the conceptual content of the record will not be recognized unless\n",
    "* cleaning metadata - you decide to conform to the schema namespaces(should perhaps repurpose using wildcard namespace prefixes to take any local name?)(skip for first time use)\n",
    "* Upload your metadata to the server using a metadataEvaluation function \n",
    "* Choose metadata from the metadata directory"
   ]
  },
  {
   "cell_type": "code",
   "execution_count": null,
   "metadata": {},
   "outputs": [],
   "source": [
    "CollectionName = \"MetadataAnalysis\"\n",
    "if not os.path.exists('./metadata/' + CollectionName):\n",
    "    os.makedirs('./metadata/' + CollectionName)\n",
    "    \n",
    "urls = [\"https://data.datacite.org/application/vnd.datacite.datacite+xml/10.1016/j.ecoinf.2017.09.005\"\n",
    "       ]\n",
    "xml_files = ['./metadata/' + CollectionName + '/10.1016.j.ecoinf.2017.09.005.xml'\n",
    "            ]    \n",
    "md.get_records(urls, xml_files, well_formed=False)"
   ]
  },
  {
   "cell_type": "markdown",
   "metadata": {},
   "source": [
    "#### Evaluate metadata for element content and Schema.org concepts using Metadata Evaluation Webservice\n",
    "* Request element content of records\n",
    "* Request concept content of records\n",
    "* take concept results, filter for Schema.org concepts"
   ]
  },
  {
   "cell_type": "code",
   "execution_count": null,
   "metadata": {},
   "outputs": [],
   "source": [
    "Organization = 'BCO-DMO'\n",
    "Collection = 'GeoTraces'\n",
    "Dialect = 'ISO'\n",
    "MetadataLocation = (\n",
    "    './metadata/' + Organization + '/' +\n",
    "    Collection + '/' + Dialect + '/xml'\n",
    ")\n",
    "if not os.path.exists('./data/' + Collection):\n",
    "    os.makedirs('./data/' + Collection)"
   ]
  },
  {
   "cell_type": "code",
   "execution_count": null,
   "metadata": {},
   "outputs": [],
   "source": [
    "ElementDF = md.elementEval(MetadataLocation, Organization, Collection, Dialect, WebService=True)\n",
    "ElementDF"
   ]
  },
  {
   "cell_type": "code",
   "execution_count": null,
   "metadata": {},
   "outputs": [],
   "source": [
    "ConceptDF = md.conceptEval(\n",
    "    MetadataLocation, Organization, Collection, Dialect, WebService=False\n",
    ")\n",
    "ConceptDF"
   ]
  },
  {
   "cell_type": "code",
   "execution_count": null,
   "metadata": {},
   "outputs": [],
   "source": [
    "RecommendationList = [\n",
    "    'Resource Identifier', 'Resource Title',\n",
    "    'Author / Originator', 'Metadata Contact', 'Contributor Name',\n",
    "    'Publisher', 'Publication Date', 'Resource Contact', 'Abstract',\n",
    "    'Keyword', 'Resource Distribution', 'Spatial Extent',\n",
    "    'Taxonomic Extent', 'Temporal Extent', 'Maintenance',\n",
    "    'Resource Use Constraints', 'Process Step', 'Project Description',\n",
    "    'Entity Type Definition', 'Attribute Definition',\n",
    "    'Resource Access Constraints', 'Resource Format', 'Attribute List',\n",
    "    'Attribute Constraints', 'Resource Quality Description'\n",
    "]\n",
    "RecommendationDF = (\n",
    "    ConceptDF.loc[ConceptDF['Concept'].isin(\n",
    "        RecommendationList\n",
    "    )])\n",
    "RecommendationDF"
   ]
  },
  {
   "cell_type": "code",
   "execution_count": null,
   "metadata": {},
   "outputs": [],
   "source": [
    "\n",
    "DataDestination = (\n",
    "    '../data/' + Organization + '/' + Collection +\n",
    "    '_' + Dialect + '_RecommendationEvaluated.csv.gz'\n",
    ")\n",
    "RecommendationDF.to_csv(DataDestination, mode='w')"
   ]
  },
  {
   "cell_type": "markdown",
   "metadata": {},
   "source": [
    "Create a Google Sheets report on the collection containing the occurrence, counts, and content of Schema.org concepts and absolute content of the elements and attributes in the records\n",
    "* Concept Occurrence Analysis\n",
    "* Concept Counts Analysis\n",
    "* Xpath Occurrence Analysis\n",
    "* Xpath Counts Analysis\n",
    "* Collection Spreadsheet"
   ]
  },
  {
   "cell_type": "code",
   "execution_count": null,
   "metadata": {},
   "outputs": [],
   "source": [
    "# create concept occurrence\n",
    "\n",
    "DataDestination2 = (\n",
    "    '../data/' + Organization + '/' +\n",
    "    Collection + '_' + Dialect + '_ConceptOccurrence.csv'\n",
    ")\n",
    "\n",
    "ConceptOccurrenceDF = md.conceptOccurrence(\n",
    "    ConceptDF, Organization,\n",
    "    Collection, Dialect, DataDestination2\n",
    ")\n",
    "\n",
    "# change order of rows to be meaningful for recommendation\n",
    "ConceptOccurrenceDF = ConceptOccurrenceDF.reindex(\n",
    "    ['Number of Records'] + Recommendation\n",
    ")\n",
    "''' fill blank spaces with the collection columns value of a\n",
    "concept that is always present in an EML record\n",
    "'''\n",
    "collectionFill = ConceptOccurrenceDF.at[\n",
    "    1, 'Collection'\n",
    "]\n",
    "values = {\n",
    "    'Collection': collectionFill, 'ConceptCount': 0, 'RecordCount': 0,\n",
    "    'AverageOccurrencePerRecord': 0.00, 'CollectionOccurrence%': 0.00\n",
    "}\n",
    "\n",
    "ConceptOccurrenceDF = ConceptOccurrenceDF.fillna(value=values)\n",
    "ConceptOccurrenceDF.to_csv(DataDestination2, mode='w')\n",
    "\n",
    "\n"
   ]
  },
  {
   "cell_type": "code",
   "execution_count": null,
   "metadata": {},
   "outputs": [],
   "source": [
    "DataDestination3 = (\n",
    "    '../data/' + Organization + '/' +\n",
    "    Collection + '_' + Dialect + '_ConceptCounts.csv'\n",
    ")\n",
    "occurrenceMatrix = ConceptCountsDF.conceptCounts(\n",
    "    RecommendationDF, Organization,\n",
    "    Collection, Dialect, DataDestination3\n",
    ")\n",
    "# order columns to reflect recommendation order\n",
    "\n",
    "occurrenceMatrix = (occurrenceMatrix[\n",
    "    ['Collection', 'Record'] + Recommendation])\n",
    "occurrenceMatrix.to_csv(DataDestination3, mode='w', index=False)"
   ]
  },
  {
   "cell_type": "code",
   "execution_count": null,
   "metadata": {},
   "outputs": [],
   "source": [
    "DataDestination = (\n",
    "    '../data/' + Organization + '/' + Collection +\n",
    "    '_' + Dialect + '_XpathOccurrence.csv'\n",
    ")\n",
    "\n",
    "md.xpathOccurrence(\n",
    "    ElementDF, Organization,\n",
    "    Collection, Dialect, DataDestination\n",
    ")"
   ]
  },
  {
   "cell_type": "code",
   "execution_count": null,
   "metadata": {},
   "outputs": [],
   "source": [
    "DataDestination4 = (\n",
    "    '../data/' + Organization + '/' +\n",
    "    Collection + '_' + Dialect + '_XpathCounts.csv'\n",
    ")\n",
    "\n",
    "md.XpathCounts(\n",
    "    ElementDF, Organization,\n",
    "    Collection, Dialect, DataDestination4\n",
    ")"
   ]
  },
  {
   "cell_type": "code",
   "execution_count": null,
   "metadata": {},
   "outputs": [],
   "source": [
    "ReportLocation = (\n",
    "    '../reports/' + Organization + '/' + Organization +\n",
    "    '_' + Collection + '_' + Dialect + '_Report.xlsx'\n",
    ")\n",
    "\n",
    "md.collectionSpreadsheet(\n",
    "    Organization, Collection, Dialect,\n",
    "    EvaluatedConcepts, EvaluatedXpaths,\n",
    "    DataDestination, DataDestination4,\n",
    "    DataDestination2, DataDestination3, ReportLocation\n",
    ")"
   ]
  },
  {
   "cell_type": "code",
   "execution_count": null,
   "metadata": {},
   "outputs": [],
   "source": [
    "md.WriteGoogleSheets(ReportLocation)"
   ]
  },
  {
   "cell_type": "markdown",
   "metadata": {},
   "source": [
    "transform to Schema.org JSON-LD for required elements for datasets"
   ]
  }
 ],
 "metadata": {
  "kernelspec": {
   "display_name": "Python 3",
   "language": "python",
   "name": "python3"
  },
  "language_info": {
   "codemirror_mode": {
    "name": "ipython",
    "version": 3
   },
   "file_extension": ".py",
   "mimetype": "text/x-python",
   "name": "python",
   "nbconvert_exporter": "python",
   "pygments_lexer": "ipython3",
   "version": "3.6.4"
  }
 },
 "nbformat": 4,
 "nbformat_minor": 2
}
