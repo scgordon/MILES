{
 "cells": [
  {
   "cell_type": "markdown",
   "metadata": {},
   "source": [
    "# Create Recommendation Report for a Metadata Collection\n",
    "### Notebook Goals\n",
    "* evaluate metadata for concepts and xpaths\n",
    "* Create data about the collection's concepts and xpaths\n",
    "* create collection reports on data in Excel and Google Sheets\n"
   ]
  },
  {
   "cell_type": "code",
   "execution_count": null,
   "metadata": {},
   "outputs": [],
   "source": [
    "# directory creation\n",
    "import os\n",
    "# manipulating table data\n",
    "import pandas as pd\n",
    "# create a dropdown\n",
    "from ipywidgets import *\n",
    "# display widget\n",
    "from IPython.display import display\n",
    "\n",
    "# upload records for evaluation, analyze and create reports\n",
    "import MDeval as md"
   ]
  },
  {
   "cell_type": "markdown",
   "metadata": {},
   "source": [
    "#### Describe the metadata. \n",
    "* What organization created the records? (Organization)\n",
    "* What collection are the records from? (Collection)\n",
    "* What dialect are the records written in? (Dialect)\n",
    "\n",
    "First we need to set some variables that identify where the metadata is and create a place for the resulting analysis and reports. We'll step through the process with  "
   ]
  },
  {
   "cell_type": "code",
   "execution_count": null,
   "metadata": {},
   "outputs": [],
   "source": [
    "# variables for function arguments, fill these out\n",
    "Organization = 'LTER'\n",
    "Collection = 'MILES'\n",
    "Dialect = 'EML'\n",
    "\n",
    "# variable created from other variables, defining where to put the metadata\n",
    "MetadataLocation = './metadata/' + Organization + '/' + Collection\n",
    "# create directories\n",
    "os.makedirs('./data/' + Organization, exist_ok=True)\n",
    "os.makedirs('./reports/' + Organization, exist_ok=True)"
   ]
  },
  {
   "cell_type": "markdown",
   "metadata": {},
   "source": [
    "#### Evaluate metadata for element content and concept content \n",
    "* Upload metadata to Metadata Evaluation Web Service\n",
    "* Read returned element content of records into a dataframe\n",
    "* Read returned concept content of records into a dataframe"
   ]
  },
  {
   "cell_type": "code",
   "execution_count": null,
   "metadata": {},
   "outputs": [],
   "source": [
    "md.XMLeval(MetadataLocation, Organization, Collection, Dialect)"
   ]
  },
  {
   "cell_type": "markdown",
   "metadata": {},
   "source": [
    "#### Convert the conceptual CSV response of XMLeval into a dataframe. \n",
    "\n",
    "The concept evaluated table contains a row for each concept identified by the Metadata Evaluation Webservice in the collection. \n",
    "The row contains: \n",
    "* The Collection the record is from \n",
    "* The Dialect the record is written in\n",
    "* The record the concept was in\n",
    "* The concept name \n",
    "* The xpath the concept was found at\n",
    "* The content at that location in the document."
   ]
  },
  {
   "cell_type": "code",
   "execution_count": null,
   "metadata": {},
   "outputs": [],
   "source": [
    "# assign csv filepath of concept results to a variable\n",
    "ConceptEvaluatedCSV = os.path.join(\n",
    "        './data/', Organization, Collection +\n",
    "        '_' + Dialect + \"_ConceptEvaluated.csv\")\n",
    "\n",
    "# read csv into pandas dataframe\n",
    "ConceptDF = pd.read_csv(ConceptEvaluatedCSV, quotechar='\"')\n",
    "\n",
    "# show dataframe\n",
    "ConceptDF"
   ]
  },
  {
   "cell_type": "markdown",
   "metadata": {},
   "source": [
    "#### Thats a lot of rows. Let's make the dataframe display better"
   ]
  },
  {
   "cell_type": "code",
   "execution_count": null,
   "metadata": {},
   "outputs": [],
   "source": [
    "# pd.describe_option() will explain these options and more\n",
    "# limit number of rows displayed\n",
    "pd.set_option('display.max_rows', 20)\n",
    "# widen the columns so the content is easier to see\n",
    "pd.set_option('display.max_colwidth', 115)\n",
    "# Display the dataframe again\n",
    "ConceptDF"
   ]
  },
  {
   "cell_type": "markdown",
   "metadata": {},
   "source": [
    "#### Convert the xpath CSV response of XMLeval into a dataframe. \n",
    "\n",
    "The xpath evaluated table contains a row for each xpath with text content identified by the Metadata Evaluation Webservice in the collection. \n",
    "The row contains: \n",
    "* The Collection the record is from \n",
    "* The record the xpath was in\n",
    "* The xpath the text was found at\n",
    "* The content at that location in the document."
   ]
  },
  {
   "cell_type": "code",
   "execution_count": null,
   "metadata": {},
   "outputs": [],
   "source": [
    "# assign csv filepath of concept results to a variable\n",
    "ElementEvaluatedCSV = os.path.join(\n",
    "        './data/', Organization, Collection +\n",
    "        '_' + Dialect + \"_ElementEvaluated.csv\")\n",
    "\n",
    "# read csv into dataframe\n",
    "ElementDF = pd.read_csv(ElementEvaluatedCSV, quotechar='\"')\n",
    "\n",
    "# show dataframe\n",
    "ElementDF"
   ]
  },
  {
   "cell_type": "code",
   "execution_count": null,
   "metadata": {},
   "outputs": [],
   "source": [
    "# import recTags\n",
    "RecommendationsDF = pd.read_csv('./RecTag.csv')\n",
    "# select recommendation\n",
    "\n",
    "# create a list of recommendations\n",
    "RecommendationChoices = RecommendationsDF['Recommendation'].tolist()\n",
    "# remove list items that are empty\n",
    "RecommendationChoices = [x for x in RecommendationChoices if str(x) != 'nan']\n",
    "\n",
    "# create recommendation choice function to interact with widget and recommendation list\n",
    "def RecChoices(Rec):\n",
    "    global Recommendation\n",
    "    Recommendation = (RecommendationsDF[RecommendationsDF['Recommendation'] == Rec]).values.tolist()[0]\n",
    "    Recommendation = [x for x in Recommendation if str(x) != 'nan']\n",
    "    del Recommendation[0]\n",
    "    return Recommendation\n",
    "\n",
    "# recommendation selector dropdown    \n",
    "w=interactive(RecChoices, Rec=RecommendationChoices) \n",
    "#get list to use\n",
    "display(w)"
   ]
  },
  {
   "cell_type": "markdown",
   "metadata": {},
   "source": [
    "#### Look at the concepts that are part of the selected recommendation"
   ]
  },
  {
   "cell_type": "code",
   "execution_count": null,
   "metadata": {},
   "outputs": [],
   "source": [
    "Recommendation"
   ]
  },
  {
   "cell_type": "markdown",
   "metadata": {},
   "source": [
    "#### Limit the rows to just concepts in the selected recommendation"
   ]
  },
  {
   "cell_type": "code",
   "execution_count": null,
   "metadata": {},
   "outputs": [],
   "source": [
    "# remove rows that do not contain a Concept name that is contained in Recommendation\n",
    "RecommendationConceptsDF = (\n",
    "    ConceptDF.loc[ConceptDF['Concept'].isin(\n",
    "        Recommendation\n",
    "    )])\n",
    "# Define a location to save the results to.\n",
    "RecommendationConceptEvaluatedCSV = (\n",
    "    './data/' + Organization + '/' + Collection +\n",
    "    '_' + Dialect + '_RecommendationEvaluated.csv'\n",
    ")\n",
    "# Save the result to a CSV to add to the report\n",
    "RecommendationConceptsDF.to_csv(\n",
    "    RecommendationConceptEvaluatedCSV, index=False\n",
    ")\n",
    "# Display the resulting dataframe\n",
    "RecommendationConceptsDF"
   ]
  },
  {
   "cell_type": "markdown",
   "metadata": {},
   "source": [
    "\n",
    "Analyze the evaluated metadata. Create a Google Sheets report on the collection containing the occurrence, counts, and content of Schema.org concepts and absolute content of the elements and attributes in the records\n"
   ]
  },
  {
   "cell_type": "markdown",
   "metadata": {},
   "source": [
    "#### Concept Occurrence function\n",
    "* The first row is the number of records. Use the *RecordCount* column\n",
    "* Rows are Concepts in the Recommendation\n",
    "* Columns are ConceptCount, RecordCount, AverageOccurrencePerRecord, CollectionOccurrence%"
   ]
  },
  {
   "cell_type": "code",
   "execution_count": null,
   "metadata": {},
   "outputs": [],
   "source": [
    "# create concept occurrence\n",
    "# Define location to save to\n",
    "ConceptOccurrenceCSV = (\n",
    "    './data/' + Organization + '/' +\n",
    "    Collection + '_' + Dialect + '_ConceptOccurrence.csv'\n",
    ")\n",
    "# run Concept occurrence function\n",
    "ConceptOccurrenceDF = md.conceptOccurrence(\n",
    "    RecommendationConceptsDF, Organization,\n",
    "    Collection, Dialect, ConceptOccurrenceCSV\n",
    ")\n",
    "# read csv into a dataframe\n",
    "ConceptOccurrenceDF = pd.read_csv(ConceptOccurrenceCSV, index_col=0)\n",
    "# change order of rows to be meaningful for recommendation\n",
    "ConceptOccurrenceDF = ConceptOccurrenceDF.reindex(\n",
    "    ['Number of Records'] + Recommendation\n",
    ")\n",
    "# fill blank spaces with the properly configured value of 0\n",
    "\n",
    "values = {\n",
    "    'Collection': Organization+'_'+Collection, 'ConceptCount': 0, 'RecordCount': 0,\n",
    "    'AverageOccurrencePerRecord': 0.00, 'CollectionOccurrence%': 0.00\n",
    "}\n",
    "ConceptOccurrenceDF = ConceptOccurrenceDF.fillna(value=values)\n",
    "# write over the previous csv\n",
    "ConceptOccurrenceDF.to_csv(ConceptOccurrenceCSV, mode='w')\n",
    "ConceptOccurrenceDF"
   ]
  },
  {
   "cell_type": "markdown",
   "metadata": {},
   "source": [
    "#### Concept Counts Analysis\n",
    "* Rows are records\n",
    "* Columns are Concepts\n",
    "* Values are the counts of each concept for the record "
   ]
  },
  {
   "cell_type": "code",
   "execution_count": null,
   "metadata": {},
   "outputs": [],
   "source": [
    "# Define location to save to\n",
    "ConceptCountsCSV = (\n",
    "    './data/' + Organization + '/' +\n",
    "    Collection + '_' + Dialect + '_ConceptCounts.csv'\n",
    ")\n",
    "# Concept counts MDeval function\n",
    "occurrenceMatrix = md.conceptCounts(\n",
    "    RecommendationConceptsDF, Organization,\n",
    "    Collection, Dialect, ConceptCountsCSV\n",
    ")\n",
    "# order columns to reflect recommendation order\n",
    "\n",
    "occurrenceMatrix = (occurrenceMatrix[\n",
    "    ['Collection', 'Record'] + Recommendation])\n",
    "# write results to csv\n",
    "occurrenceMatrix.to_csv(ConceptCountsCSV, mode='w', index=False)"
   ]
  },
  {
   "cell_type": "markdown",
   "metadata": {},
   "source": [
    "#### Xpath Occurrence Analysis\n",
    "\n",
    "* The first row is the number of records. Use the *RecordCount* column\n",
    "* Rows are Xpath in the Recommendation\n",
    "* Columns are XpathCount, RecordCount, AverageOccurrencePerRecord, CollectionOccurrence%"
   ]
  },
  {
   "cell_type": "code",
   "execution_count": null,
   "metadata": {},
   "outputs": [],
   "source": [
    "# Define location to save to\n",
    "XpathOccurrenceCSV = (\n",
    "    './data/' + Organization + '/' + Collection +\n",
    "    '_' + Dialect + '_ElementOccurrence.csv'\n",
    ")\n",
    "# function for \n",
    "md.xpathOccurrence(\n",
    "    ElementDF, Organization,\n",
    "    Collection, Dialect, XpathOccurrenceCSV\n",
    ")"
   ]
  },
  {
   "cell_type": "markdown",
   "metadata": {},
   "source": [
    "#### Xpath Counts Analysis\n",
    "* Rows are records\n",
    "* Columns are Xpaths\n",
    "* Values are the counts of each Xpath for the record "
   ]
  },
  {
   "cell_type": "code",
   "execution_count": null,
   "metadata": {},
   "outputs": [],
   "source": [
    "#define location to save to.\n",
    "XpathCountsCSV = (\n",
    "    './data/' + Organization + '/' +\n",
    "    Collection + '_' + Dialect + '_ElementCounts.csv'\n",
    ")\n",
    "# run XpathCounts function\n",
    "md.XpathCounts(\n",
    "    ElementDF, Organization,\n",
    "    Collection, Dialect, XpathCountsCSV\n",
    ")"
   ]
  },
  {
   "cell_type": "markdown",
   "metadata": {},
   "source": [
    "#### Create Collection Spreadsheet\n",
    "* Write the results from the evaluations and analyses."
   ]
  },
  {
   "cell_type": "code",
   "execution_count": null,
   "metadata": {},
   "outputs": [],
   "source": [
    "# location to save the resulting Excel spreadsheet\n",
    "ReportLocation = (\n",
    "    './reports/' + Organization + '/' + Organization +\n",
    "    '_' + Collection + '_' + Dialect + '_Report.xlsx'\n",
    ")\n",
    "# Run spreadsheet function\n",
    "md.collectionSpreadsheet(\n",
    "    Organization, Collection, Dialect,\n",
    "    RecommendationConceptEvaluatedCSV, ElementEvaluatedCSV,\n",
    "    XpathOccurrenceCSV, XpathCountsCSV,\n",
    "    ConceptOccurrenceCSV, ConceptCountsCSV, ReportLocation\n",
    ")"
   ]
  },
  {
   "cell_type": "markdown",
   "metadata": {},
   "source": [
    "#### Upload and convert to Google Sheets"
   ]
  },
  {
   "cell_type": "code",
   "execution_count": null,
   "metadata": {
    "scrolled": true
   },
   "outputs": [],
   "source": [
    "# run WriteGoogleSheets function\n",
    "md.WriteGoogleSheets(ReportLocation)\n"
   ]
  },
  {
   "cell_type": "markdown",
   "metadata": {},
   "source": [
    "[Next Notebook: Create JSON-LD for Datasets Using the schema.org Vocabulary and Test the Results](./02.CreateJSON-LD.ipynb)"
   ]
  },
  {
   "cell_type": "code",
   "execution_count": null,
   "metadata": {},
   "outputs": [],
   "source": []
  }
 ],
 "metadata": {
  "kernelspec": {
   "display_name": "Python 3",
   "language": "python",
   "name": "python3"
  },
  "language_info": {
   "codemirror_mode": {
    "name": "ipython",
    "version": 3
   },
   "file_extension": ".py",
   "mimetype": "text/x-python",
   "name": "python",
   "nbconvert_exporter": "python",
   "pygments_lexer": "ipython3",
   "version": "3.6.4"
  }
 },
 "nbformat": 4,
 "nbformat_minor": 2
}
