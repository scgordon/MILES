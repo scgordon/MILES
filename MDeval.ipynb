{
 "cells": [
  {
   "cell_type": "markdown",
   "metadata": {},
   "source": [
    "### Notebook Goals\n",
    "* upload metadata from repo/website(10)(Sean)\n",
    "* evaluate for concepts and xpaths(10)(Sean)\n",
    "* Create collection spreadsheet(10)(Sean)\n",
    "* create Google sheet(10)(Sean)\n"
   ]
  },
  {
   "cell_type": "markdown",
   "metadata": {},
   "source": [
    "#### Choose some Metadata\n",
    "* a note on schema conformance\n",
    "* cleaning metadata\n",
    "* Upload your metadata to the server using a metadataEvaluation function\n",
    "* Choose metadata from the metadata directory"
   ]
  },
  {
   "cell_type": "markdown",
   "metadata": {},
   "source": [
    "#### Evaluate metadata for element content and Schema.org concepts using Metadata Evaluation Webservice\n",
    "* Request element content of records\n",
    "* Request concept content of records\n",
    "* take concept results, filter for Schema.org concepts"
   ]
  },
  {
   "cell_type": "markdown",
   "metadata": {},
   "source": [
    "Create a Google Sheets report on the collection containing the occurrence, counts, and content of Schema.org concepts and absolute content of the elements and attributes in the records\n",
    "* Concept Occurrence Analysis\n",
    "* Concept Counts Analysis\n",
    "* Xpath Occurrence Analysis\n",
    "* Xpath Counts Analysis\n",
    "* Collection Spreadsheet"
   ]
  },
  {
   "cell_type": "code",
   "execution_count": null,
   "metadata": {},
   "outputs": [],
   "source": []
  }
 ],
 "metadata": {
  "kernelspec": {
   "display_name": "Python 3",
   "language": "python",
   "name": "python3"
  },
  "language_info": {
   "codemirror_mode": {
    "name": "ipython",
    "version": 3
   },
   "file_extension": ".py",
   "mimetype": "text/x-python",
   "name": "python",
   "nbconvert_exporter": "python",
   "pygments_lexer": "ipython3",
   "version": "3.6.4"
  }
 },
 "nbformat": 4,
 "nbformat_minor": 2
}
