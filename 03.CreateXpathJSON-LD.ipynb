{
 "cells": [
  {
   "cell_type": "markdown",
   "metadata": {},
   "source": [
    "# Bonus Notebook: Create a Dialect Specific Translation to the schema.org Vocabulary Words Google Recommends for Datasets and create JSON-LD \n",
    "### Notebook Goals\n",
    "* Create dataframe with xpath content for the collection \n",
    "* Identify the Xpaths that Translate into the schema.org vocabulary\n",
    "* Create valid JSON-LD for a record\n",
    "* Use Google's Structured Data Testing Tool to test results\n",
    "* Additional food for thought"
   ]
  },
  {
   "cell_type": "code",
   "execution_count": null,
   "metadata": {},
   "outputs": [],
   "source": [
    "# refine dataframe, create record json\n",
    "import pandas as pd\n",
    "# create dataframe structure that contains the records content\n",
    "import MDeval as md"
   ]
  },
  {
   "cell_type": "markdown",
   "metadata": {},
   "source": [
    "#### Describe the metadata. \n",
    "* What organization created the records? (Organization)\n",
    "* What collection are the records from? (Collection)\n",
    "* What dialect are the records written in? (Dialect)"
   ]
  },
  {
   "cell_type": "code",
   "execution_count": null,
   "metadata": {},
   "outputs": [],
   "source": [
    "# variables for function arguments, fill these out\n",
    "Organization = 'LTER'\n",
    "Collection = 'MILES'\n",
    "Dialect = 'EML'"
   ]
  },
  {
   "cell_type": "markdown",
   "metadata": {},
   "source": [
    "#### Read in the metadata's xpath evaluated csv"
   ]
  },
  {
   "cell_type": "code",
   "execution_count": null,
   "metadata": {},
   "outputs": [],
   "source": [
    "# read in the Xpath evaluated csv defined by the above variables\n",
    "RecommendationEvaluatedDF = pd.read_csv(\n",
    "    './data/'+Organization+'/'+Collection+'_'+Dialect+'_ElementEvaluated.csv'\n",
    ")"
   ]
  },
  {
   "cell_type": "markdown",
   "metadata": {},
   "source": [
    "#### Record Xpath Content Function\n",
    "* Rows are records\n",
    "* Columns are Xpaths"
   ]
  },
  {
   "cell_type": "code",
   "execution_count": null,
   "metadata": {},
   "outputs": [],
   "source": [
    "''' requires a dataframe with concepts. Creates a vertical view of\n",
    "xpath content for each record in the collection. Useful in the\n",
    "creation of json. \n",
    "'''\n",
    "recordDF = md.recordXpathContent(RecommendationEvaluatedDF)\n",
    "# display the dataframe\n",
    "recordDF"
   ]
  },
  {
   "cell_type": "markdown",
   "metadata": {},
   "source": [
    "#### Choose a record to translate"
   ]
  },
  {
   "cell_type": "code",
   "execution_count": null,
   "metadata": {},
   "outputs": [],
   "source": [
    "# Set RecordChoice variable\n",
    "RecordChoice = 'dataset_3484.xml'"
   ]
  },
  {
   "cell_type": "code",
   "execution_count": null,
   "metadata": {},
   "outputs": [],
   "source": [
    "# Select record row\n",
    "recordDF = recordDF[recordDF['Record'] == RecordChoice]\n",
    "# drop the Collection and Record columns\n",
    "recordDF = recordDF.drop(['Collection', 'Record'], 'columns')\n",
    "# display the chosen record's content\n",
    "recordDF"
   ]
  },
  {
   "cell_type": "markdown",
   "metadata": {},
   "source": [
    "#### Translate xpaths to schema.org vocabulary\n",
    "* identify xpaths that crosswalk\n",
    "* replace 'xpathN' with Xpath from dialect"
   ]
  },
  {
   "cell_type": "code",
   "execution_count": null,
   "metadata": {
    "scrolled": true
   },
   "outputs": [],
   "source": [
    "# consider the schema.org vocabulary words and identify likely Xpath matches\n",
    "recordDF = recordDF.rename({'xpath0':'name', 'xpath1':'description',\n",
    "                            'xpath2':'url', 'xpath3':'keywords',\n",
    "                            'xpath4':'creator', 'xpath5': 'distribution',\n",
    "                            'xpath6':'@type', 'xpath7': 'version',\n",
    "                            'xpath8': 'temporalCoverage', 'xpath9': 'spatialCoverage',\n",
    "                            'xpath10':'citation'}, axis='columns')\n",
    "# display the new dataframe\n",
    "recordDF"
   ]
  },
  {
   "cell_type": "markdown",
   "metadata": {},
   "source": [
    "#### Add the required context"
   ]
  },
  {
   "cell_type": "code",
   "execution_count": null,
   "metadata": {},
   "outputs": [],
   "source": [
    "'''\n",
    "insert a column in the third position with \"@context\" as the header\n",
    "and \"http://schema.org as the content\n",
    "'''\n",
    "recordDF.insert(2, '@context', 'http://schema.org/')\n",
    "# display the dataframe\n",
    "recordDF"
   ]
  },
  {
   "cell_type": "markdown",
   "metadata": {},
   "source": [
    "#### Create JSON-LD string for adding to the header of the landing page in the repository"
   ]
  },
  {
   "cell_type": "code",
   "execution_count": null,
   "metadata": {},
   "outputs": [],
   "source": [
    "# create JSON using the pandas function \"to_json\" use the \"record\" orientation\n",
    "recordJSON = recordDF.to_json(orient='records')\n",
    "# add the HTML script element that declares the contents to be JSON-LD\n",
    "RecordJSONld = '<script type=\"application/ld+json\">' + recordDict[1:-1] + '</script>'\n",
    "# display the resultant string\n",
    "RecordJSONld"
   ]
  },
  {
   "cell_type": "markdown",
   "metadata": {},
   "source": [
    "#### Test JSON-LD for validity\n",
    "* Take string produced by the cell above and copy it\n",
    "* Go to [Google's Structured Data Testing Tool](https://search.google.com/structured-data/testing-tool#new-test)\n",
    "* Select the \"Code Snippet Tab\"\n",
    "* Paste string and \"Run Test\"\n",
    "* Click on errors to highlight the portion of the string that needs improvement\n",
    "* Rerun test with the play button in the middle bottom of the screen"
   ]
  },
  {
   "cell_type": "markdown",
   "metadata": {},
   "source": [
    "#### Consider using another JSON writer\n",
    "\n",
    "* Some of the schema.org vocabulary used in the recommendation for a dataset is nested.\n",
    "* [hone](https://github.com/chamkank/hone) can create a nested JSON representation.\n"
   ]
  },
  {
   "cell_type": "code",
   "execution_count": null,
   "metadata": {},
   "outputs": [],
   "source": [
    "# needed to create nest JSON\n",
    "import hone\n",
    "#requires a csv to read, so we'll need to save the \n",
    "\n",
    "# define csv location\n",
    "toNestedJSON = (\n",
    "    './data/' + Organization + '/' + Collection +\n",
    "    '_' + Dialect + '_toNestedJSON.csv')\n",
    "# change xpath headers in dataframe to delimiters used to nest\n",
    "recordDF.columns = recordDF.columns.str.replace(\"[/]\", \" \")\n",
    "# write results to csv\n",
    "recordDF.to_csv(\n",
    "    toNestedJSON, index=False\n",
    ")\n",
    "# write JSON\n",
    "Hone = hone.Hone()\n",
    "schema = Hone.get_schema(toNestedJSON)\n",
    "# display JSON\n",
    "schema"
   ]
  },
  {
   "cell_type": "markdown",
   "metadata": {},
   "source": [
    "#### Consider creating a validation workflow for your JSON output from tools such as:\n",
    "\n",
    "* https://github.com/digitalbazaar/pyld\n",
    "* https://github.com/RDFLib/rdflib-jsonld"
   ]
  },
  {
   "cell_type": "markdown",
   "metadata": {},
   "source": [
    "#### Improve workflow for specific dialect needs and share the resulting notebook(s) in the workshop_shared directory in the scgordon/participants directory to facilitate collaboration!"
   ]
  },
  {
   "cell_type": "code",
   "execution_count": null,
   "metadata": {},
   "outputs": [],
   "source": []
  }
 ],
 "metadata": {
  "kernelspec": {
   "display_name": "Python 3",
   "language": "python",
   "name": "python3"
  },
  "language_info": {
   "codemirror_mode": {
    "name": "ipython",
    "version": 3
   },
   "file_extension": ".py",
   "mimetype": "text/x-python",
   "name": "python",
   "nbconvert_exporter": "python",
   "pygments_lexer": "ipython3",
   "version": "3.6.4"
  }
 },
 "nbformat": 4,
 "nbformat_minor": 2
}
