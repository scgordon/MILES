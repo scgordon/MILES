{
 "cells": [
  {
   "cell_type": "markdown",
   "metadata": {},
   "source": [
    "# Ingest and Prepare a Metadata Collection for Evaluation\n",
    "### Notebook Goals\n",
    "* How you can use JupyterLab's GUI to upload a metadata record or a zip of many records and move the metadata to a directory\n",
    "* Download a metadata collection from a repository or other URL\n",
    "* normalize namespace location so concepts can be read accurately by the Metadata Evaluation Web Service"
   ]
  },
  {
   "cell_type": "code",
   "execution_count": null,
   "metadata": {},
   "outputs": [],
   "source": [
    "# create directories\n",
    "import os\n",
    "# compress metadata collection\n",
    "import zipfile\n",
    "# download records from a repository and prepare for evaluation\n",
    "import MDeval as md"
   ]
  },
  {
   "cell_type": "markdown",
   "metadata": {},
   "source": [
    "## Describe the metadata. \n",
    "* What organization created the records? (Organization)\n",
    "* What collection are the records from? (Collection)\n",
    "* What dialect are the records written in? (Dialect)"
   ]
  },
  {
   "cell_type": "code",
   "execution_count": null,
   "metadata": {},
   "outputs": [],
   "source": [
    "# variables for function arguments, fill these out\n",
    "Organization = 'LTER'\n",
    "Collection = 'MILES'\n",
    "Dialect = 'EML'\n",
    "\n",
    "# variable created from other variables, defining where to put the metadata\n",
    "MetadataLocation = './metadata/' + Organization + '/' + Collection\n",
    "# creates a directory\n",
    "os.makedirs(MetadataLocation, exist_ok=True)"
   ]
  },
  {
   "cell_type": "markdown",
   "metadata": {},
   "source": [
    "## Choose a method of metadata ingest"
   ]
  },
  {
   "cell_type": "markdown",
   "metadata": {},
   "source": [
    "#### 1. Upload from your computer through the graphical user interface:\n",
    "* use the file explorer on the left of your screen to navigate to the MILES directory. You'll see a metadata directory. Navigate to the *MetadataLocation* you created \n",
    "* Just above the directory and below the Lab toolbar is an arrow pointing up over a horizontal line. Click that and use the file explorer to select your metadata.\n",
    "* upload a zip file called *metadata.zip* to the MILES directory, then unzip to the *MetadataLocation* after switching the cell type from Raw to Code on the following cell."
   ]
  },
  {
   "cell_type": "raw",
   "metadata": {},
   "source": [
    "# unpack the ingest of compressed files into the MetadataLocation\n",
    "with zipfile.ZipFile('./metadata.zip') as z:\n",
    "    fileNames = z.namelist()\n",
    "    for fileName in fileNames:\n",
    "        # only the xml and not other artifacts from the os that compressed it\n",
    "        if fileName.endswith('xml') and not fileName.startswith(\"_\"):\n",
    "            content = z.open(fileName).read()\n",
    "            # write the metadata to the MetadataLocation with the original name\n",
    "            open(MetadataLocation + fileName, 'wb').write(content)"
   ]
  },
  {
   "cell_type": "markdown",
   "metadata": {},
   "source": [
    "#### 2. Use records from the shared/resources/samples/metadata directory\n",
    "\n",
    "* Use the Terminal to copy a directory to your instance:\n",
    "    * cp -r shared/resources/samples/metadata/BCO-DMO/GeoTraces metadata/BCO-DMO/GeoTraces\n",
    "\n",
    "* Copy/Paste and Drag n Drop are possible, but not recommended  \n",
    "\n",
    "* Since I've cleaned up all the example collections it is possible to refer directly to the metadata directory in the shared/resources/metadata \n",
    "just alter the MetadataLocation from starting with the string './metadata' to 'shared/resources/samples/metadata' (Untested)\n"
   ]
  },
  {
   "cell_type": "markdown",
   "metadata": {},
   "source": [
    "#### 3. Download records from a repository\n",
    "* Create a list of record urls and a list of names for the records\n",
    "* Use the lists to supply pairs of arguments to the function MDeval. The items will be paired in order, first *urls* with first *xml_files*"
   ]
  },
  {
   "cell_type": "code",
   "execution_count": null,
   "metadata": {},
   "outputs": [],
   "source": [
    "# variables for function arguments\n",
    "\n",
    "# locations of metadata\n",
    "urls = [\n",
    "    \"https://cn.dataone.org/cn/v2/resolve/knb-lter-pie.118.6\",\n",
    "    \"https://cn.dataone.org/cn/v2/resolve/knb-lter-pie.46.4\",\n",
    "    \"https://cn.dataone.org/cn/v2/resolve/knb-lter-pie.110.5\",\n",
    "    \"https://cn.dataone.org/cn/v2/resolve/knb-lter-pie.62.5\",\n",
    "    \"https://cn.dataone.org/cn/v2/resolve/knb-lter-pie.101.8\",\n",
    "    \"https://cn.dataone.org/cn/v2/resolve/knb-lter-pie.98.7\",\n",
    "    \"https://cn.dataone.org/cn/v2/resolve/knb-lter-pie.69.7\",\n",
    "    \"https://cn.dataone.org/cn/v2/resolve/https%3A%2F%2Fpasta.lternet.edu%2Fpackage%2Fmetadata%2Feml%2Fknb-lter-pie%2F429%2F1\",\n",
    "    \"https://cn.dataone.org/cn/v2/resolve/https%3A%2F%2Fpasta.lternet.edu%2Fpackage%2Fmetadata%2Feml%2Fknb-lter-pie%2F430%2F1\",\n",
    "    \"https://cn.dataone.org/cn/v2/resolve/https%3A%2F%2Fpasta.lternet.edu%2Fpackage%2Fmetadata%2Feml%2Fknb-lter-pal%2F98%2F2\",\n",
    "    \"https://cn.dataone.org/cn/v2/resolve/https%3A%2F%2Fpasta.lternet.edu%2Fpackage%2Fmetadata%2Feml%2Fknb-lter-pal%2F101%2F2\",\n",
    "    \"https://cn.dataone.org/cn/v2/resolve/https%3A%2F%2Fpasta.lternet.edu%2Fpackage%2Fmetadata%2Feml%2Fknb-lter-pal%2F97%2F5\",\n",
    "    \"https://cn.dataone.org/cn/v2/resolve/https%3A%2F%2Fpasta.lternet.edu%2Fpackage%2Fmetadata%2Feml%2Fknb-lter-pal%2F92%2F5\",\n",
    "    \"https://cn.dataone.org/cn/v2/resolve/knb-lter-nwt.102.10\",\n",
    "    \"https://cn.dataone.org/cn/v2/resolve/knb-lter-nwt.98.10\",\n",
    "    \"https://cn.dataone.org/cn/v2/resolve/doi%3A10.6073%2FAA%2Fknb-lter-nwt.401.5\",\n",
    "    \"https://cn.dataone.org/cn/v2/resolve/doi%3A10.6073%2FAA%2Fknb-lter-nwt.73.2\",\n",
    "    \"https://cn.dataone.org/cn/v2/resolve/knb-lter-nwt.34.8\",\n",
    "    \"https://cn.dataone.org/cn/v2/resolve/doi%3A10.6073%2FAA%2Fknb-lter-nwt.54.2\",\n",
    "    \"https://cn.dataone.org/cn/v2/resolve/https%3A%2F%2Fpasta.lternet.edu%2Fpackage%2Fmetadata%2Feml%2Fknb-lter-nwt%2F927%2F2\",\n",
    "    \"https://cn.dataone.org/cn/v2/resolve/https%3A%2F%2Fpasta.lternet.edu%2Fpackage%2Fmetadata%2Feml%2Fknb-lter-nwt%2F928%2F3\",\n",
    "    \"https://cn.dataone.org/cn/v2/resolve/https%3A%2F%2Fpasta.lternet.edu%2Fpackage%2Fmetadata%2Feml%2Fknb-lter-nwt%2F31%2F14\",\n",
    "    \"https://cn.dataone.org/cn/v2/resolve/https%3A%2F%2Fpasta.lternet.edu%2Fpackage%2Fmetadata%2Feml%2Fknb-lter-nwt%2F411%2F8\"\n",
    "    ]\n",
    "\n",
    "# names you want to give the records\n",
    "xml_files = [MetadataLocation + '/' + '1' + '.xml',\n",
    "             MetadataLocation + '/' + '2' + '.xml',\n",
    "             MetadataLocation + '/' + '3' + '.xml',\n",
    "             MetadataLocation + '/' + '4' + '.xml',\n",
    "             MetadataLocation + '/' + '5' + '.xml',\n",
    "             MetadataLocation + '/' + '6' + '.xml',\n",
    "             MetadataLocation + '/' + '7' + '.xml',\n",
    "             MetadataLocation + '/' + '8' + '.xml',\n",
    "             MetadataLocation + '/' + '9' + '.xml',\n",
    "             MetadataLocation + '/' + '10' + '.xml',\n",
    "             MetadataLocation + '/' + '11' + '.xml',\n",
    "             MetadataLocation + '/' + '12' + '.xml',\n",
    "             MetadataLocation + '/' + '13' + '.xml',\n",
    "             MetadataLocation + '/' + '14' + '.xml',\n",
    "             MetadataLocation + '/' + '15' + '.xml',\n",
    "             MetadataLocation + '/' + '16' + '.xml',\n",
    "             MetadataLocation + '/' + '17' + '.xml',\n",
    "             MetadataLocation + '/' + '18' + '.xml',\n",
    "             MetadataLocation + '/' + '19' + '.xml',\n",
    "             MetadataLocation + '/' + '20' + '.xml',\n",
    "             MetadataLocation + '/' + '21' + '.xml',\n",
    "             MetadataLocation + '/' + '22' + '.xml',\n",
    "             MetadataLocation + '/' + '23' + '.xml',\n",
    "            ]   \n",
    "# MDeval function to retrieve records\n",
    "md.get_records(urls, xml_files, well_formed=False)"
   ]
  },
  {
   "cell_type": "markdown",
   "metadata": {},
   "source": [
    "## Ensure namespace conformance\n",
    "A note on namespaces - the transform identifies dialect from the default or explicit schema location. This means if I have records referencing DataCite kernel 4 instead of kernel 3, the conceptual content of the record will not be recognized. The records must be altered to point to kernel 3. The [Namespace prefix locations](Namespace_prefix_Location.md) document will allow you to use the same location the evaluation testing that is done in the web service uses to identify when you run the MDeval.XMLeval function in the next notebook"
   ]
  },
  {
   "cell_type": "code",
   "execution_count": null,
   "metadata": {},
   "outputs": [],
   "source": [
    "# variables for function arguments\n",
    "oldNamespaceLocation = 'xmlns:eml=\"eml://ecoinformatics.org/eml-2.0.1\"'\n",
    "newNamespaceLocation = 'xmlns:eml=\"eml://ecoinformatics.org/eml-2.1.1\"'\n",
    "# MDeval function to find and replace the old with the new.\n",
    "md.normalizeNamespace(MetadataLocation, newNamespaceLocation, oldNamespaceLocation)"
   ]
  },
  {
   "cell_type": "markdown",
   "metadata": {},
   "source": [
    "#### Now you are ready to evaluate, analyze, and create reports on your own metadata!\n",
    "[Next Notebook: Create Recommendation Report for a Metadata Collection](./01.CreateRecReport.ipynb)"
   ]
  },
  {
   "cell_type": "code",
   "execution_count": null,
   "metadata": {},
   "outputs": [],
   "source": []
  }
 ],
 "metadata": {
  "kernelspec": {
   "display_name": "Python 3",
   "language": "python",
   "name": "python3"
  },
  "language_info": {
   "codemirror_mode": {
    "name": "ipython",
    "version": 3
   },
   "file_extension": ".py",
   "mimetype": "text/x-python",
   "name": "python",
   "nbconvert_exporter": "python",
   "pygments_lexer": "ipython3",
   "version": "3.6.4"
  }
 },
 "nbformat": 4,
 "nbformat_minor": 2
}
