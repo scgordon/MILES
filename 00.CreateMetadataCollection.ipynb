{
 "cells": [
  {
   "cell_type": "markdown",
   "metadata": {},
   "source": [
    "### Notebook Goals\n",
    "* How you can use JupyterLab's GUI to upload a metadata record or a zip of many records and move the metadata to a directory\n",
    "* Download a metadata collection from a repository or other URL\n",
    "* normalize namespace location so concepts can be read accurately by the Metadata Evaluation Web Service"
   ]
  },
  {
   "cell_type": "code",
   "execution_count": 12,
   "metadata": {},
   "outputs": [],
   "source": [
    "import os\n",
    "import zipfile\n",
    "import MDeval as md"
   ]
  },
  {
   "cell_type": "markdown",
   "metadata": {},
   "source": [
    "Upload the visual way:\n",
    "* use the file directory on the left of your screen to navigate to the MILES directory. (You're already there)\n",
    "* Just above the directory and below the Lab toolbar is an arrow pointing up over a horizontal line. Click that and use the file explorer to select your metadata."
   ]
  },
  {
   "cell_type": "markdown",
   "metadata": {},
   "source": [
    "Describe the metadata collection you are uploading by setting the Organization, Collection, and Dialect variables.\n"
   ]
  },
  {
   "cell_type": "code",
   "execution_count": 13,
   "metadata": {},
   "outputs": [],
   "source": [
    "Organization = 'MetadataAnalysis'\n",
    "Collection = 'MILESworkshop'\n",
    "Dialect = 'ISO'\n",
    "MetadataLocation = (\n",
    "    './metadata/' + Organization + '/' +\n",
    "    Collection + '/' + Dialect + '/xml'\n",
    ")\n",
    "\n",
    "os.makedirs(MetadataLocation, exist_ok=True)"
   ]
  },
  {
   "cell_type": "markdown",
   "metadata": {},
   "source": [
    "Optional: Use the GUI to upload a zip file called metadata.zip to the MILES directory, then unzip to the location you created in the previous cell"
   ]
  },
  {
   "cell_type": "code",
   "execution_count": null,
   "metadata": {},
   "outputs": [],
   "source": []
  },
  {
   "cell_type": "code",
   "execution_count": 14,
   "metadata": {},
   "outputs": [],
   "source": [
    "z = zipfile.ZipFile('./metadata.zip')\n",
    "z.extractall(MetadataLocation)"
   ]
  },
  {
   "cell_type": "code",
   "execution_count": 3,
   "metadata": {},
   "outputs": [],
   "source": [
    "urls = [\"https://data.datacite.org/application/vnd.datacite.datacite+xml/10.1016/j.ecoinf.2017.09.005\",\n",
    "        \"https://data.datacite.org/application/vnd.datacite.datacite+xml/10.1016/j.ecoinf.2017.09.006\"\n",
    "       ]\n",
    "xml_files = [MetadataLocation + '/' + '10.1016.j.ecoinf.2017.09.005.xml',\n",
    "             MetadataLocation + '/' + '10.1016.j.ecoinf.2017.09.006.xml'\n",
    "            ]    \n",
    "md.get_records(urls, xml_files, well_formed=False)"
   ]
  },
  {
   "cell_type": "markdown",
   "metadata": {},
   "source": [
    "\n",
    "a note on schema conformance- the transform identifies dialect from the default or explicit schema location. This means if I declare I'm using EML, but not the schema location the dialect was built from, the conceptual content of the record will not be recognized unless you decide to conform to the schema namespaces used by the evaluation service"
   ]
  },
  {
   "cell_type": "code",
   "execution_count": 9,
   "metadata": {},
   "outputs": [
    {
     "name": "stdout",
     "output_type": "stream",
     "text": [
      "./metadata/MetadataAnalysis/MILESworkshop/DCITE/xml/10.1016.j.ecoinf.2017.09.006.xml is normalized\n",
      "./metadata/MetadataAnalysis/MILESworkshop/DCITE/xml/10.1016.j.ecoinf.2017.09.005.xml is normalized\n"
     ]
    }
   ],
   "source": [
    "oldNamespaceLocation = 'xmlns=\"http://datacite.org/schema/kernel-4\"'\n",
    "newNamespaceLocation = 'xmlns=\"http://datacite.org/schema/kernel-3\"'\n",
    "\n",
    "md.normalizeNamespace(MetadataLocation, newNamespaceLocation, oldNamespaceLocation)"
   ]
  },
  {
   "cell_type": "markdown",
   "metadata": {},
   "source": [
    "[Next Notebook: Create Recommendation Report for a Metadata Collection](./01.CreateRecReport.ipynb)"
   ]
  },
  {
   "cell_type": "code",
   "execution_count": null,
   "metadata": {},
   "outputs": [],
   "source": []
  }
 ],
 "metadata": {
  "kernelspec": {
   "display_name": "Python 3",
   "language": "python",
   "name": "python3"
  },
  "language_info": {
   "codemirror_mode": {
    "name": "ipython",
    "version": 3
   },
   "file_extension": ".py",
   "mimetype": "text/x-python",
   "name": "python",
   "nbconvert_exporter": "python",
   "pygments_lexer": "ipython3",
   "version": "3.6.4"
  }
 },
 "nbformat": 4,
 "nbformat_minor": 2
}
